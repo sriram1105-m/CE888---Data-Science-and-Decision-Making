{
 "cells": [
  {
   "cell_type": "code",
   "execution_count": 1,
   "metadata": {},
   "outputs": [],
   "source": [
    "#Importing the libraries\n",
    "import numpy as np\n",
    "import pandas as pd\n",
    "import matplotlib.pyplot as plt\n",
    "import seaborn as sns"
   ]
  },
  {
   "cell_type": "code",
   "execution_count": 2,
   "metadata": {},
   "outputs": [],
   "source": [
    "df = pd.read_csv(\"https://raw.githubusercontent.com/albanda/CE888/master/lab3/bank-additional-full.csv\", delimiter = \";\")"
   ]
  },
  {
   "cell_type": "code",
   "execution_count": 3,
   "metadata": {},
   "outputs": [
    {
     "data": {
      "text/html": [
       "<div>\n",
       "<style scoped>\n",
       "    .dataframe tbody tr th:only-of-type {\n",
       "        vertical-align: middle;\n",
       "    }\n",
       "\n",
       "    .dataframe tbody tr th {\n",
       "        vertical-align: top;\n",
       "    }\n",
       "\n",
       "    .dataframe thead th {\n",
       "        text-align: right;\n",
       "    }\n",
       "</style>\n",
       "<table border=\"1\" class=\"dataframe\">\n",
       "  <thead>\n",
       "    <tr style=\"text-align: right;\">\n",
       "      <th></th>\n",
       "      <th>age</th>\n",
       "      <th>job</th>\n",
       "      <th>marital</th>\n",
       "      <th>education</th>\n",
       "      <th>default</th>\n",
       "      <th>housing</th>\n",
       "      <th>loan</th>\n",
       "      <th>contact</th>\n",
       "      <th>month</th>\n",
       "      <th>day_of_week</th>\n",
       "      <th>...</th>\n",
       "      <th>campaign</th>\n",
       "      <th>pdays</th>\n",
       "      <th>previous</th>\n",
       "      <th>poutcome</th>\n",
       "      <th>emp.var.rate</th>\n",
       "      <th>cons.price.idx</th>\n",
       "      <th>cons.conf.idx</th>\n",
       "      <th>euribor3m</th>\n",
       "      <th>nr.employed</th>\n",
       "      <th>y</th>\n",
       "    </tr>\n",
       "  </thead>\n",
       "  <tbody>\n",
       "    <tr>\n",
       "      <th>0</th>\n",
       "      <td>56</td>\n",
       "      <td>housemaid</td>\n",
       "      <td>married</td>\n",
       "      <td>basic.4y</td>\n",
       "      <td>no</td>\n",
       "      <td>no</td>\n",
       "      <td>no</td>\n",
       "      <td>telephone</td>\n",
       "      <td>may</td>\n",
       "      <td>mon</td>\n",
       "      <td>...</td>\n",
       "      <td>1</td>\n",
       "      <td>999</td>\n",
       "      <td>0</td>\n",
       "      <td>nonexistent</td>\n",
       "      <td>1.1</td>\n",
       "      <td>93.994</td>\n",
       "      <td>-36.4</td>\n",
       "      <td>4.857</td>\n",
       "      <td>5191.0</td>\n",
       "      <td>no</td>\n",
       "    </tr>\n",
       "    <tr>\n",
       "      <th>1</th>\n",
       "      <td>57</td>\n",
       "      <td>services</td>\n",
       "      <td>married</td>\n",
       "      <td>high.school</td>\n",
       "      <td>unknown</td>\n",
       "      <td>no</td>\n",
       "      <td>no</td>\n",
       "      <td>telephone</td>\n",
       "      <td>may</td>\n",
       "      <td>mon</td>\n",
       "      <td>...</td>\n",
       "      <td>1</td>\n",
       "      <td>999</td>\n",
       "      <td>0</td>\n",
       "      <td>nonexistent</td>\n",
       "      <td>1.1</td>\n",
       "      <td>93.994</td>\n",
       "      <td>-36.4</td>\n",
       "      <td>4.857</td>\n",
       "      <td>5191.0</td>\n",
       "      <td>no</td>\n",
       "    </tr>\n",
       "    <tr>\n",
       "      <th>2</th>\n",
       "      <td>37</td>\n",
       "      <td>services</td>\n",
       "      <td>married</td>\n",
       "      <td>high.school</td>\n",
       "      <td>no</td>\n",
       "      <td>yes</td>\n",
       "      <td>no</td>\n",
       "      <td>telephone</td>\n",
       "      <td>may</td>\n",
       "      <td>mon</td>\n",
       "      <td>...</td>\n",
       "      <td>1</td>\n",
       "      <td>999</td>\n",
       "      <td>0</td>\n",
       "      <td>nonexistent</td>\n",
       "      <td>1.1</td>\n",
       "      <td>93.994</td>\n",
       "      <td>-36.4</td>\n",
       "      <td>4.857</td>\n",
       "      <td>5191.0</td>\n",
       "      <td>no</td>\n",
       "    </tr>\n",
       "    <tr>\n",
       "      <th>3</th>\n",
       "      <td>40</td>\n",
       "      <td>admin.</td>\n",
       "      <td>married</td>\n",
       "      <td>basic.6y</td>\n",
       "      <td>no</td>\n",
       "      <td>no</td>\n",
       "      <td>no</td>\n",
       "      <td>telephone</td>\n",
       "      <td>may</td>\n",
       "      <td>mon</td>\n",
       "      <td>...</td>\n",
       "      <td>1</td>\n",
       "      <td>999</td>\n",
       "      <td>0</td>\n",
       "      <td>nonexistent</td>\n",
       "      <td>1.1</td>\n",
       "      <td>93.994</td>\n",
       "      <td>-36.4</td>\n",
       "      <td>4.857</td>\n",
       "      <td>5191.0</td>\n",
       "      <td>no</td>\n",
       "    </tr>\n",
       "    <tr>\n",
       "      <th>4</th>\n",
       "      <td>56</td>\n",
       "      <td>services</td>\n",
       "      <td>married</td>\n",
       "      <td>high.school</td>\n",
       "      <td>no</td>\n",
       "      <td>no</td>\n",
       "      <td>yes</td>\n",
       "      <td>telephone</td>\n",
       "      <td>may</td>\n",
       "      <td>mon</td>\n",
       "      <td>...</td>\n",
       "      <td>1</td>\n",
       "      <td>999</td>\n",
       "      <td>0</td>\n",
       "      <td>nonexistent</td>\n",
       "      <td>1.1</td>\n",
       "      <td>93.994</td>\n",
       "      <td>-36.4</td>\n",
       "      <td>4.857</td>\n",
       "      <td>5191.0</td>\n",
       "      <td>no</td>\n",
       "    </tr>\n",
       "  </tbody>\n",
       "</table>\n",
       "<p>5 rows × 21 columns</p>\n",
       "</div>"
      ],
      "text/plain": [
       "   age        job  marital    education  default housing loan    contact  \\\n",
       "0   56  housemaid  married     basic.4y       no      no   no  telephone   \n",
       "1   57   services  married  high.school  unknown      no   no  telephone   \n",
       "2   37   services  married  high.school       no     yes   no  telephone   \n",
       "3   40     admin.  married     basic.6y       no      no   no  telephone   \n",
       "4   56   services  married  high.school       no      no  yes  telephone   \n",
       "\n",
       "  month day_of_week  ...  campaign  pdays  previous     poutcome emp.var.rate  \\\n",
       "0   may         mon  ...         1    999         0  nonexistent          1.1   \n",
       "1   may         mon  ...         1    999         0  nonexistent          1.1   \n",
       "2   may         mon  ...         1    999         0  nonexistent          1.1   \n",
       "3   may         mon  ...         1    999         0  nonexistent          1.1   \n",
       "4   may         mon  ...         1    999         0  nonexistent          1.1   \n",
       "\n",
       "   cons.price.idx  cons.conf.idx  euribor3m  nr.employed   y  \n",
       "0          93.994          -36.4      4.857       5191.0  no  \n",
       "1          93.994          -36.4      4.857       5191.0  no  \n",
       "2          93.994          -36.4      4.857       5191.0  no  \n",
       "3          93.994          -36.4      4.857       5191.0  no  \n",
       "4          93.994          -36.4      4.857       5191.0  no  \n",
       "\n",
       "[5 rows x 21 columns]"
      ]
     },
     "execution_count": 3,
     "metadata": {},
     "output_type": "execute_result"
    }
   ],
   "source": [
    "df.head()"
   ]
  },
  {
   "cell_type": "code",
   "execution_count": 4,
   "metadata": {},
   "outputs": [
    {
     "data": {
      "text/plain": [
       "(41188, 21)"
      ]
     },
     "execution_count": 4,
     "metadata": {},
     "output_type": "execute_result"
    }
   ],
   "source": [
    "df.shape"
   ]
  },
  {
   "cell_type": "code",
   "execution_count": 5,
   "metadata": {},
   "outputs": [
    {
     "data": {
      "text/plain": [
       "admin.           10422\n",
       "blue-collar       9254\n",
       "technician        6743\n",
       "services          3969\n",
       "management        2924\n",
       "retired           1720\n",
       "entrepreneur      1456\n",
       "self-employed     1421\n",
       "housemaid         1060\n",
       "unemployed        1014\n",
       "student            875\n",
       "unknown            330\n",
       "Name: job, dtype: int64"
      ]
     },
     "execution_count": 5,
     "metadata": {},
     "output_type": "execute_result"
    }
   ],
   "source": [
    "#Data Preprocessing\n",
    "# Checking for unique values\n",
    "df['job'].value_counts()\n"
   ]
  },
  {
   "cell_type": "code",
   "execution_count": 6,
   "metadata": {},
   "outputs": [
    {
     "data": {
      "text/plain": [
       "married     24928\n",
       "single      11568\n",
       "divorced     4612\n",
       "unknown        80\n",
       "Name: marital, dtype: int64"
      ]
     },
     "execution_count": 6,
     "metadata": {},
     "output_type": "execute_result"
    }
   ],
   "source": [
    "df['marital'].value_counts()\n"
   ]
  },
  {
   "cell_type": "code",
   "execution_count": 7,
   "metadata": {},
   "outputs": [
    {
     "data": {
      "text/plain": [
       "university.degree      12168\n",
       "high.school             9515\n",
       "basic.9y                6045\n",
       "professional.course     5243\n",
       "basic.4y                4176\n",
       "basic.6y                2292\n",
       "unknown                 1731\n",
       "illiterate                18\n",
       "Name: education, dtype: int64"
      ]
     },
     "execution_count": 7,
     "metadata": {},
     "output_type": "execute_result"
    }
   ],
   "source": [
    "df['education'].value_counts()\n"
   ]
  },
  {
   "cell_type": "code",
   "execution_count": 8,
   "metadata": {},
   "outputs": [
    {
     "data": {
      "text/plain": [
       "no         32588\n",
       "unknown     8597\n",
       "yes            3\n",
       "Name: default, dtype: int64"
      ]
     },
     "execution_count": 8,
     "metadata": {},
     "output_type": "execute_result"
    }
   ],
   "source": [
    "df['default'].value_counts()\n"
   ]
  },
  {
   "cell_type": "code",
   "execution_count": 9,
   "metadata": {},
   "outputs": [
    {
     "data": {
      "text/plain": [
       "yes        21576\n",
       "no         18622\n",
       "unknown      990\n",
       "Name: housing, dtype: int64"
      ]
     },
     "execution_count": 9,
     "metadata": {},
     "output_type": "execute_result"
    }
   ],
   "source": [
    "df['housing'].value_counts()\n"
   ]
  },
  {
   "cell_type": "code",
   "execution_count": 10,
   "metadata": {},
   "outputs": [
    {
     "data": {
      "text/plain": [
       "no         33950\n",
       "yes         6248\n",
       "unknown      990\n",
       "Name: loan, dtype: int64"
      ]
     },
     "execution_count": 10,
     "metadata": {},
     "output_type": "execute_result"
    }
   ],
   "source": [
    "df['loan'].value_counts()\n"
   ]
  },
  {
   "cell_type": "code",
   "execution_count": 11,
   "metadata": {},
   "outputs": [
    {
     "data": {
      "text/plain": [
       "cellular     26144\n",
       "telephone    15044\n",
       "Name: contact, dtype: int64"
      ]
     },
     "execution_count": 11,
     "metadata": {},
     "output_type": "execute_result"
    }
   ],
   "source": [
    "df['contact'].value_counts()\n"
   ]
  },
  {
   "cell_type": "code",
   "execution_count": 12,
   "metadata": {},
   "outputs": [
    {
     "data": {
      "text/plain": [
       "may    13769\n",
       "jul     7174\n",
       "aug     6178\n",
       "jun     5318\n",
       "nov     4101\n",
       "apr     2632\n",
       "oct      718\n",
       "sep      570\n",
       "mar      546\n",
       "dec      182\n",
       "Name: month, dtype: int64"
      ]
     },
     "execution_count": 12,
     "metadata": {},
     "output_type": "execute_result"
    }
   ],
   "source": [
    "df['month'].value_counts()\n"
   ]
  },
  {
   "cell_type": "code",
   "execution_count": 13,
   "metadata": {},
   "outputs": [
    {
     "data": {
      "text/plain": [
       "thu    8623\n",
       "mon    8514\n",
       "wed    8134\n",
       "tue    8090\n",
       "fri    7827\n",
       "Name: day_of_week, dtype: int64"
      ]
     },
     "execution_count": 13,
     "metadata": {},
     "output_type": "execute_result"
    }
   ],
   "source": [
    "df['day_of_week'].value_counts()\n"
   ]
  },
  {
   "cell_type": "code",
   "execution_count": 14,
   "metadata": {},
   "outputs": [
    {
     "data": {
      "text/plain": [
       "nonexistent    35563\n",
       "failure         4252\n",
       "success         1373\n",
       "Name: poutcome, dtype: int64"
      ]
     },
     "execution_count": 14,
     "metadata": {},
     "output_type": "execute_result"
    }
   ],
   "source": [
    "df['poutcome'].value_counts()"
   ]
  },
  {
   "cell_type": "code",
   "execution_count": 15,
   "metadata": {},
   "outputs": [
    {
     "data": {
      "text/plain": [
       "no     36548\n",
       "yes     4640\n",
       "Name: y, dtype: int64"
      ]
     },
     "execution_count": 15,
     "metadata": {},
     "output_type": "execute_result"
    }
   ],
   "source": [
    "df['y'].value_counts()"
   ]
  },
  {
   "cell_type": "code",
   "execution_count": 16,
   "metadata": {},
   "outputs": [],
   "source": [
    "# Label Encoder\n",
    "from sklearn.preprocessing import LabelEncoder\n",
    "encoder = LabelEncoder()\n",
    "df['job'] = encoder.fit_transform(df['job'])\n",
    "df['marital'] = encoder.fit_transform(df['marital'])\n",
    "df['education'] = encoder.fit_transform(df['education'])\n",
    "df['default'] = encoder.fit_transform(df['default'])\n",
    "df['housing'] = encoder.fit_transform(df['housing'])\n",
    "df['loan'] = encoder.fit_transform(df['loan'])\n",
    "df['month'] = encoder.fit_transform(df['month'])\n",
    "df['day_of_week'] = encoder.fit_transform(df['day_of_week'])\n",
    "df['poutcome'] = encoder.fit_transform(df['poutcome'])\n",
    "df['contact'] = encoder.fit_transform(df['contact'])"
   ]
  },
  {
   "cell_type": "code",
   "execution_count": 17,
   "metadata": {},
   "outputs": [
    {
     "data": {
      "text/html": [
       "<div>\n",
       "<style scoped>\n",
       "    .dataframe tbody tr th:only-of-type {\n",
       "        vertical-align: middle;\n",
       "    }\n",
       "\n",
       "    .dataframe tbody tr th {\n",
       "        vertical-align: top;\n",
       "    }\n",
       "\n",
       "    .dataframe thead th {\n",
       "        text-align: right;\n",
       "    }\n",
       "</style>\n",
       "<table border=\"1\" class=\"dataframe\">\n",
       "  <thead>\n",
       "    <tr style=\"text-align: right;\">\n",
       "      <th></th>\n",
       "      <th>age</th>\n",
       "      <th>job</th>\n",
       "      <th>marital</th>\n",
       "      <th>education</th>\n",
       "      <th>default</th>\n",
       "      <th>housing</th>\n",
       "      <th>loan</th>\n",
       "      <th>contact</th>\n",
       "      <th>month</th>\n",
       "      <th>day_of_week</th>\n",
       "      <th>...</th>\n",
       "      <th>campaign</th>\n",
       "      <th>pdays</th>\n",
       "      <th>previous</th>\n",
       "      <th>poutcome</th>\n",
       "      <th>emp.var.rate</th>\n",
       "      <th>cons.price.idx</th>\n",
       "      <th>cons.conf.idx</th>\n",
       "      <th>euribor3m</th>\n",
       "      <th>nr.employed</th>\n",
       "      <th>y</th>\n",
       "    </tr>\n",
       "  </thead>\n",
       "  <tbody>\n",
       "    <tr>\n",
       "      <th>0</th>\n",
       "      <td>56</td>\n",
       "      <td>3</td>\n",
       "      <td>1</td>\n",
       "      <td>0</td>\n",
       "      <td>0</td>\n",
       "      <td>0</td>\n",
       "      <td>0</td>\n",
       "      <td>1</td>\n",
       "      <td>6</td>\n",
       "      <td>1</td>\n",
       "      <td>...</td>\n",
       "      <td>1</td>\n",
       "      <td>999</td>\n",
       "      <td>0</td>\n",
       "      <td>1</td>\n",
       "      <td>1.1</td>\n",
       "      <td>93.994</td>\n",
       "      <td>-36.4</td>\n",
       "      <td>4.857</td>\n",
       "      <td>5191.0</td>\n",
       "      <td>no</td>\n",
       "    </tr>\n",
       "    <tr>\n",
       "      <th>1</th>\n",
       "      <td>57</td>\n",
       "      <td>7</td>\n",
       "      <td>1</td>\n",
       "      <td>3</td>\n",
       "      <td>1</td>\n",
       "      <td>0</td>\n",
       "      <td>0</td>\n",
       "      <td>1</td>\n",
       "      <td>6</td>\n",
       "      <td>1</td>\n",
       "      <td>...</td>\n",
       "      <td>1</td>\n",
       "      <td>999</td>\n",
       "      <td>0</td>\n",
       "      <td>1</td>\n",
       "      <td>1.1</td>\n",
       "      <td>93.994</td>\n",
       "      <td>-36.4</td>\n",
       "      <td>4.857</td>\n",
       "      <td>5191.0</td>\n",
       "      <td>no</td>\n",
       "    </tr>\n",
       "    <tr>\n",
       "      <th>2</th>\n",
       "      <td>37</td>\n",
       "      <td>7</td>\n",
       "      <td>1</td>\n",
       "      <td>3</td>\n",
       "      <td>0</td>\n",
       "      <td>2</td>\n",
       "      <td>0</td>\n",
       "      <td>1</td>\n",
       "      <td>6</td>\n",
       "      <td>1</td>\n",
       "      <td>...</td>\n",
       "      <td>1</td>\n",
       "      <td>999</td>\n",
       "      <td>0</td>\n",
       "      <td>1</td>\n",
       "      <td>1.1</td>\n",
       "      <td>93.994</td>\n",
       "      <td>-36.4</td>\n",
       "      <td>4.857</td>\n",
       "      <td>5191.0</td>\n",
       "      <td>no</td>\n",
       "    </tr>\n",
       "    <tr>\n",
       "      <th>3</th>\n",
       "      <td>40</td>\n",
       "      <td>0</td>\n",
       "      <td>1</td>\n",
       "      <td>1</td>\n",
       "      <td>0</td>\n",
       "      <td>0</td>\n",
       "      <td>0</td>\n",
       "      <td>1</td>\n",
       "      <td>6</td>\n",
       "      <td>1</td>\n",
       "      <td>...</td>\n",
       "      <td>1</td>\n",
       "      <td>999</td>\n",
       "      <td>0</td>\n",
       "      <td>1</td>\n",
       "      <td>1.1</td>\n",
       "      <td>93.994</td>\n",
       "      <td>-36.4</td>\n",
       "      <td>4.857</td>\n",
       "      <td>5191.0</td>\n",
       "      <td>no</td>\n",
       "    </tr>\n",
       "    <tr>\n",
       "      <th>4</th>\n",
       "      <td>56</td>\n",
       "      <td>7</td>\n",
       "      <td>1</td>\n",
       "      <td>3</td>\n",
       "      <td>0</td>\n",
       "      <td>0</td>\n",
       "      <td>2</td>\n",
       "      <td>1</td>\n",
       "      <td>6</td>\n",
       "      <td>1</td>\n",
       "      <td>...</td>\n",
       "      <td>1</td>\n",
       "      <td>999</td>\n",
       "      <td>0</td>\n",
       "      <td>1</td>\n",
       "      <td>1.1</td>\n",
       "      <td>93.994</td>\n",
       "      <td>-36.4</td>\n",
       "      <td>4.857</td>\n",
       "      <td>5191.0</td>\n",
       "      <td>no</td>\n",
       "    </tr>\n",
       "    <tr>\n",
       "      <th>...</th>\n",
       "      <td>...</td>\n",
       "      <td>...</td>\n",
       "      <td>...</td>\n",
       "      <td>...</td>\n",
       "      <td>...</td>\n",
       "      <td>...</td>\n",
       "      <td>...</td>\n",
       "      <td>...</td>\n",
       "      <td>...</td>\n",
       "      <td>...</td>\n",
       "      <td>...</td>\n",
       "      <td>...</td>\n",
       "      <td>...</td>\n",
       "      <td>...</td>\n",
       "      <td>...</td>\n",
       "      <td>...</td>\n",
       "      <td>...</td>\n",
       "      <td>...</td>\n",
       "      <td>...</td>\n",
       "      <td>...</td>\n",
       "      <td>...</td>\n",
       "    </tr>\n",
       "    <tr>\n",
       "      <th>41183</th>\n",
       "      <td>73</td>\n",
       "      <td>5</td>\n",
       "      <td>1</td>\n",
       "      <td>5</td>\n",
       "      <td>0</td>\n",
       "      <td>2</td>\n",
       "      <td>0</td>\n",
       "      <td>0</td>\n",
       "      <td>7</td>\n",
       "      <td>0</td>\n",
       "      <td>...</td>\n",
       "      <td>1</td>\n",
       "      <td>999</td>\n",
       "      <td>0</td>\n",
       "      <td>1</td>\n",
       "      <td>-1.1</td>\n",
       "      <td>94.767</td>\n",
       "      <td>-50.8</td>\n",
       "      <td>1.028</td>\n",
       "      <td>4963.6</td>\n",
       "      <td>yes</td>\n",
       "    </tr>\n",
       "    <tr>\n",
       "      <th>41184</th>\n",
       "      <td>46</td>\n",
       "      <td>1</td>\n",
       "      <td>1</td>\n",
       "      <td>5</td>\n",
       "      <td>0</td>\n",
       "      <td>0</td>\n",
       "      <td>0</td>\n",
       "      <td>0</td>\n",
       "      <td>7</td>\n",
       "      <td>0</td>\n",
       "      <td>...</td>\n",
       "      <td>1</td>\n",
       "      <td>999</td>\n",
       "      <td>0</td>\n",
       "      <td>1</td>\n",
       "      <td>-1.1</td>\n",
       "      <td>94.767</td>\n",
       "      <td>-50.8</td>\n",
       "      <td>1.028</td>\n",
       "      <td>4963.6</td>\n",
       "      <td>no</td>\n",
       "    </tr>\n",
       "    <tr>\n",
       "      <th>41185</th>\n",
       "      <td>56</td>\n",
       "      <td>5</td>\n",
       "      <td>1</td>\n",
       "      <td>6</td>\n",
       "      <td>0</td>\n",
       "      <td>2</td>\n",
       "      <td>0</td>\n",
       "      <td>0</td>\n",
       "      <td>7</td>\n",
       "      <td>0</td>\n",
       "      <td>...</td>\n",
       "      <td>2</td>\n",
       "      <td>999</td>\n",
       "      <td>0</td>\n",
       "      <td>1</td>\n",
       "      <td>-1.1</td>\n",
       "      <td>94.767</td>\n",
       "      <td>-50.8</td>\n",
       "      <td>1.028</td>\n",
       "      <td>4963.6</td>\n",
       "      <td>no</td>\n",
       "    </tr>\n",
       "    <tr>\n",
       "      <th>41186</th>\n",
       "      <td>44</td>\n",
       "      <td>9</td>\n",
       "      <td>1</td>\n",
       "      <td>5</td>\n",
       "      <td>0</td>\n",
       "      <td>0</td>\n",
       "      <td>0</td>\n",
       "      <td>0</td>\n",
       "      <td>7</td>\n",
       "      <td>0</td>\n",
       "      <td>...</td>\n",
       "      <td>1</td>\n",
       "      <td>999</td>\n",
       "      <td>0</td>\n",
       "      <td>1</td>\n",
       "      <td>-1.1</td>\n",
       "      <td>94.767</td>\n",
       "      <td>-50.8</td>\n",
       "      <td>1.028</td>\n",
       "      <td>4963.6</td>\n",
       "      <td>yes</td>\n",
       "    </tr>\n",
       "    <tr>\n",
       "      <th>41187</th>\n",
       "      <td>74</td>\n",
       "      <td>5</td>\n",
       "      <td>1</td>\n",
       "      <td>5</td>\n",
       "      <td>0</td>\n",
       "      <td>2</td>\n",
       "      <td>0</td>\n",
       "      <td>0</td>\n",
       "      <td>7</td>\n",
       "      <td>0</td>\n",
       "      <td>...</td>\n",
       "      <td>3</td>\n",
       "      <td>999</td>\n",
       "      <td>1</td>\n",
       "      <td>0</td>\n",
       "      <td>-1.1</td>\n",
       "      <td>94.767</td>\n",
       "      <td>-50.8</td>\n",
       "      <td>1.028</td>\n",
       "      <td>4963.6</td>\n",
       "      <td>no</td>\n",
       "    </tr>\n",
       "  </tbody>\n",
       "</table>\n",
       "<p>41188 rows × 21 columns</p>\n",
       "</div>"
      ],
      "text/plain": [
       "       age  job  marital  education  default  housing  loan  contact  month  \\\n",
       "0       56    3        1          0        0        0     0        1      6   \n",
       "1       57    7        1          3        1        0     0        1      6   \n",
       "2       37    7        1          3        0        2     0        1      6   \n",
       "3       40    0        1          1        0        0     0        1      6   \n",
       "4       56    7        1          3        0        0     2        1      6   \n",
       "...    ...  ...      ...        ...      ...      ...   ...      ...    ...   \n",
       "41183   73    5        1          5        0        2     0        0      7   \n",
       "41184   46    1        1          5        0        0     0        0      7   \n",
       "41185   56    5        1          6        0        2     0        0      7   \n",
       "41186   44    9        1          5        0        0     0        0      7   \n",
       "41187   74    5        1          5        0        2     0        0      7   \n",
       "\n",
       "       day_of_week  ...  campaign  pdays  previous  poutcome  emp.var.rate  \\\n",
       "0                1  ...         1    999         0         1           1.1   \n",
       "1                1  ...         1    999         0         1           1.1   \n",
       "2                1  ...         1    999         0         1           1.1   \n",
       "3                1  ...         1    999         0         1           1.1   \n",
       "4                1  ...         1    999         0         1           1.1   \n",
       "...            ...  ...       ...    ...       ...       ...           ...   \n",
       "41183            0  ...         1    999         0         1          -1.1   \n",
       "41184            0  ...         1    999         0         1          -1.1   \n",
       "41185            0  ...         2    999         0         1          -1.1   \n",
       "41186            0  ...         1    999         0         1          -1.1   \n",
       "41187            0  ...         3    999         1         0          -1.1   \n",
       "\n",
       "       cons.price.idx  cons.conf.idx  euribor3m  nr.employed    y  \n",
       "0              93.994          -36.4      4.857       5191.0   no  \n",
       "1              93.994          -36.4      4.857       5191.0   no  \n",
       "2              93.994          -36.4      4.857       5191.0   no  \n",
       "3              93.994          -36.4      4.857       5191.0   no  \n",
       "4              93.994          -36.4      4.857       5191.0   no  \n",
       "...               ...            ...        ...          ...  ...  \n",
       "41183          94.767          -50.8      1.028       4963.6  yes  \n",
       "41184          94.767          -50.8      1.028       4963.6   no  \n",
       "41185          94.767          -50.8      1.028       4963.6   no  \n",
       "41186          94.767          -50.8      1.028       4963.6  yes  \n",
       "41187          94.767          -50.8      1.028       4963.6   no  \n",
       "\n",
       "[41188 rows x 21 columns]"
      ]
     },
     "execution_count": 17,
     "metadata": {},
     "output_type": "execute_result"
    }
   ],
   "source": [
    "df"
   ]
  },
  {
   "cell_type": "code",
   "execution_count": 18,
   "metadata": {},
   "outputs": [
    {
     "data": {
      "text/html": [
       "<div>\n",
       "<style scoped>\n",
       "    .dataframe tbody tr th:only-of-type {\n",
       "        vertical-align: middle;\n",
       "    }\n",
       "\n",
       "    .dataframe tbody tr th {\n",
       "        vertical-align: top;\n",
       "    }\n",
       "\n",
       "    .dataframe thead th {\n",
       "        text-align: right;\n",
       "    }\n",
       "</style>\n",
       "<table border=\"1\" class=\"dataframe\">\n",
       "  <thead>\n",
       "    <tr style=\"text-align: right;\">\n",
       "      <th></th>\n",
       "      <th>yes</th>\n",
       "    </tr>\n",
       "  </thead>\n",
       "  <tbody>\n",
       "    <tr>\n",
       "      <th>0</th>\n",
       "      <td>0</td>\n",
       "    </tr>\n",
       "    <tr>\n",
       "      <th>1</th>\n",
       "      <td>0</td>\n",
       "    </tr>\n",
       "    <tr>\n",
       "      <th>2</th>\n",
       "      <td>0</td>\n",
       "    </tr>\n",
       "    <tr>\n",
       "      <th>3</th>\n",
       "      <td>0</td>\n",
       "    </tr>\n",
       "    <tr>\n",
       "      <th>4</th>\n",
       "      <td>0</td>\n",
       "    </tr>\n",
       "    <tr>\n",
       "      <th>...</th>\n",
       "      <td>...</td>\n",
       "    </tr>\n",
       "    <tr>\n",
       "      <th>41183</th>\n",
       "      <td>1</td>\n",
       "    </tr>\n",
       "    <tr>\n",
       "      <th>41184</th>\n",
       "      <td>0</td>\n",
       "    </tr>\n",
       "    <tr>\n",
       "      <th>41185</th>\n",
       "      <td>0</td>\n",
       "    </tr>\n",
       "    <tr>\n",
       "      <th>41186</th>\n",
       "      <td>1</td>\n",
       "    </tr>\n",
       "    <tr>\n",
       "      <th>41187</th>\n",
       "      <td>0</td>\n",
       "    </tr>\n",
       "  </tbody>\n",
       "</table>\n",
       "<p>41188 rows × 1 columns</p>\n",
       "</div>"
      ],
      "text/plain": [
       "       yes\n",
       "0        0\n",
       "1        0\n",
       "2        0\n",
       "3        0\n",
       "4        0\n",
       "...    ...\n",
       "41183    1\n",
       "41184    0\n",
       "41185    0\n",
       "41186    1\n",
       "41187    0\n",
       "\n",
       "[41188 rows x 1 columns]"
      ]
     },
     "execution_count": 18,
     "metadata": {},
     "output_type": "execute_result"
    }
   ],
   "source": [
    "#One Hot Encoding\n",
    "pd.get_dummies(df.y, drop_first = True)"
   ]
  },
  {
   "cell_type": "code",
   "execution_count": 19,
   "metadata": {},
   "outputs": [
    {
     "name": "stdout",
     "output_type": "stream",
     "text": [
      "<class 'pandas.core.frame.DataFrame'>\n",
      "RangeIndex: 41188 entries, 0 to 41187\n",
      "Data columns (total 21 columns):\n",
      " #   Column          Non-Null Count  Dtype  \n",
      "---  ------          --------------  -----  \n",
      " 0   age             41188 non-null  int64  \n",
      " 1   job             41188 non-null  int32  \n",
      " 2   marital         41188 non-null  int32  \n",
      " 3   education       41188 non-null  int32  \n",
      " 4   default         41188 non-null  int32  \n",
      " 5   housing         41188 non-null  int32  \n",
      " 6   loan            41188 non-null  int32  \n",
      " 7   contact         41188 non-null  int32  \n",
      " 8   month           41188 non-null  int32  \n",
      " 9   day_of_week     41188 non-null  int32  \n",
      " 10  duration        41188 non-null  int64  \n",
      " 11  campaign        41188 non-null  int64  \n",
      " 12  pdays           41188 non-null  int64  \n",
      " 13  previous        41188 non-null  int64  \n",
      " 14  poutcome        41188 non-null  int32  \n",
      " 15  emp.var.rate    41188 non-null  float64\n",
      " 16  cons.price.idx  41188 non-null  float64\n",
      " 17  cons.conf.idx   41188 non-null  float64\n",
      " 18  euribor3m       41188 non-null  float64\n",
      " 19  nr.employed     41188 non-null  float64\n",
      " 20  y               41188 non-null  object \n",
      "dtypes: float64(5), int32(10), int64(5), object(1)\n",
      "memory usage: 5.0+ MB\n"
     ]
    }
   ],
   "source": [
    "df.info()"
   ]
  },
  {
   "cell_type": "code",
   "execution_count": 20,
   "metadata": {},
   "outputs": [],
   "source": [
    "# Removing the 'duration' column\n",
    "del df['duration']"
   ]
  },
  {
   "cell_type": "code",
   "execution_count": 21,
   "metadata": {},
   "outputs": [
    {
     "data": {
      "text/plain": [
       "(41188, 20)"
      ]
     },
     "execution_count": 21,
     "metadata": {},
     "output_type": "execute_result"
    }
   ],
   "source": [
    "df.shape"
   ]
  },
  {
   "cell_type": "code",
   "execution_count": 22,
   "metadata": {},
   "outputs": [
    {
     "name": "stdout",
     "output_type": "stream",
     "text": [
      "<class 'pandas.core.frame.DataFrame'>\n",
      "RangeIndex: 41188 entries, 0 to 41187\n",
      "Data columns (total 20 columns):\n",
      " #   Column          Non-Null Count  Dtype  \n",
      "---  ------          --------------  -----  \n",
      " 0   age             41188 non-null  int64  \n",
      " 1   job             41188 non-null  int32  \n",
      " 2   marital         41188 non-null  int32  \n",
      " 3   education       41188 non-null  int32  \n",
      " 4   default         41188 non-null  int32  \n",
      " 5   housing         41188 non-null  int32  \n",
      " 6   loan            41188 non-null  int32  \n",
      " 7   contact         41188 non-null  int32  \n",
      " 8   month           41188 non-null  int32  \n",
      " 9   day_of_week     41188 non-null  int32  \n",
      " 10  campaign        41188 non-null  int64  \n",
      " 11  pdays           41188 non-null  int64  \n",
      " 12  previous        41188 non-null  int64  \n",
      " 13  poutcome        41188 non-null  int32  \n",
      " 14  emp.var.rate    41188 non-null  float64\n",
      " 15  cons.price.idx  41188 non-null  float64\n",
      " 16  cons.conf.idx   41188 non-null  float64\n",
      " 17  euribor3m       41188 non-null  float64\n",
      " 18  nr.employed     41188 non-null  float64\n",
      " 19  y               41188 non-null  object \n",
      "dtypes: float64(5), int32(10), int64(4), object(1)\n",
      "memory usage: 4.7+ MB\n"
     ]
    }
   ],
   "source": [
    "df.info()"
   ]
  },
  {
   "cell_type": "code",
   "execution_count": 23,
   "metadata": {},
   "outputs": [
    {
     "data": {
      "text/plain": [
       "age               0\n",
       "job               0\n",
       "marital           0\n",
       "education         0\n",
       "default           0\n",
       "housing           0\n",
       "loan              0\n",
       "contact           0\n",
       "month             0\n",
       "day_of_week       0\n",
       "campaign          0\n",
       "pdays             0\n",
       "previous          0\n",
       "poutcome          0\n",
       "emp.var.rate      0\n",
       "cons.price.idx    0\n",
       "cons.conf.idx     0\n",
       "euribor3m         0\n",
       "nr.employed       0\n",
       "y                 0\n",
       "dtype: int64"
      ]
     },
     "execution_count": 23,
     "metadata": {},
     "output_type": "execute_result"
    }
   ],
   "source": [
    "# Checking for missing values in the dataset\n",
    "df.isnull().sum()"
   ]
  },
  {
   "cell_type": "code",
   "execution_count": 24,
   "metadata": {},
   "outputs": [],
   "source": [
    "\n",
    "x = ['job', 'marital', 'education', 'default', 'housing', 'loan', 'contact', 'month', 'day_of_week', 'poutcome']"
   ]
  },
  {
   "cell_type": "code",
   "execution_count": 25,
   "metadata": {},
   "outputs": [
    {
     "data": {
      "text/html": [
       "<div>\n",
       "<style scoped>\n",
       "    .dataframe tbody tr th:only-of-type {\n",
       "        vertical-align: middle;\n",
       "    }\n",
       "\n",
       "    .dataframe tbody tr th {\n",
       "        vertical-align: top;\n",
       "    }\n",
       "\n",
       "    .dataframe thead th {\n",
       "        text-align: right;\n",
       "    }\n",
       "</style>\n",
       "<table border=\"1\" class=\"dataframe\">\n",
       "  <thead>\n",
       "    <tr style=\"text-align: right;\">\n",
       "      <th></th>\n",
       "      <th>job</th>\n",
       "      <th>marital</th>\n",
       "      <th>education</th>\n",
       "      <th>default</th>\n",
       "      <th>housing</th>\n",
       "      <th>loan</th>\n",
       "      <th>contact</th>\n",
       "      <th>month</th>\n",
       "      <th>day_of_week</th>\n",
       "      <th>poutcome</th>\n",
       "    </tr>\n",
       "  </thead>\n",
       "  <tbody>\n",
       "    <tr>\n",
       "      <th>0</th>\n",
       "      <td>3</td>\n",
       "      <td>1</td>\n",
       "      <td>0</td>\n",
       "      <td>0</td>\n",
       "      <td>0</td>\n",
       "      <td>0</td>\n",
       "      <td>1</td>\n",
       "      <td>6</td>\n",
       "      <td>1</td>\n",
       "      <td>1</td>\n",
       "    </tr>\n",
       "    <tr>\n",
       "      <th>1</th>\n",
       "      <td>7</td>\n",
       "      <td>1</td>\n",
       "      <td>3</td>\n",
       "      <td>1</td>\n",
       "      <td>0</td>\n",
       "      <td>0</td>\n",
       "      <td>1</td>\n",
       "      <td>6</td>\n",
       "      <td>1</td>\n",
       "      <td>1</td>\n",
       "    </tr>\n",
       "    <tr>\n",
       "      <th>2</th>\n",
       "      <td>7</td>\n",
       "      <td>1</td>\n",
       "      <td>3</td>\n",
       "      <td>0</td>\n",
       "      <td>2</td>\n",
       "      <td>0</td>\n",
       "      <td>1</td>\n",
       "      <td>6</td>\n",
       "      <td>1</td>\n",
       "      <td>1</td>\n",
       "    </tr>\n",
       "    <tr>\n",
       "      <th>3</th>\n",
       "      <td>0</td>\n",
       "      <td>1</td>\n",
       "      <td>1</td>\n",
       "      <td>0</td>\n",
       "      <td>0</td>\n",
       "      <td>0</td>\n",
       "      <td>1</td>\n",
       "      <td>6</td>\n",
       "      <td>1</td>\n",
       "      <td>1</td>\n",
       "    </tr>\n",
       "    <tr>\n",
       "      <th>4</th>\n",
       "      <td>7</td>\n",
       "      <td>1</td>\n",
       "      <td>3</td>\n",
       "      <td>0</td>\n",
       "      <td>0</td>\n",
       "      <td>2</td>\n",
       "      <td>1</td>\n",
       "      <td>6</td>\n",
       "      <td>1</td>\n",
       "      <td>1</td>\n",
       "    </tr>\n",
       "  </tbody>\n",
       "</table>\n",
       "</div>"
      ],
      "text/plain": [
       "   job  marital  education  default  housing  loan  contact  month  \\\n",
       "0    3        1          0        0        0     0        1      6   \n",
       "1    7        1          3        1        0     0        1      6   \n",
       "2    7        1          3        0        2     0        1      6   \n",
       "3    0        1          1        0        0     0        1      6   \n",
       "4    7        1          3        0        0     2        1      6   \n",
       "\n",
       "   day_of_week  poutcome  \n",
       "0            1         1  \n",
       "1            1         1  \n",
       "2            1         1  \n",
       "3            1         1  \n",
       "4            1         1  "
      ]
     },
     "execution_count": 25,
     "metadata": {},
     "output_type": "execute_result"
    }
   ],
   "source": [
    "df[x].head()"
   ]
  },
  {
   "cell_type": "code",
   "execution_count": 26,
   "metadata": {},
   "outputs": [
    {
     "data": {
      "text/plain": [
       "array([[<matplotlib.axes._subplots.AxesSubplot object at 0x000002DA316B3B50>,\n",
       "        <matplotlib.axes._subplots.AxesSubplot object at 0x000002DA319030A0>,\n",
       "        <matplotlib.axes._subplots.AxesSubplot object at 0x000002DA3193D490>],\n",
       "       [<matplotlib.axes._subplots.AxesSubplot object at 0x000002DA32A19910>,\n",
       "        <matplotlib.axes._subplots.AxesSubplot object at 0x000002DA32A45D60>,\n",
       "        <matplotlib.axes._subplots.AxesSubplot object at 0x000002DA32A7D130>],\n",
       "       [<matplotlib.axes._subplots.AxesSubplot object at 0x000002DA32A7D220>,\n",
       "        <matplotlib.axes._subplots.AxesSubplot object at 0x000002DA32AAB6D0>,\n",
       "        <matplotlib.axes._subplots.AxesSubplot object at 0x000002DA32B06EE0>],\n",
       "       [<matplotlib.axes._subplots.AxesSubplot object at 0x000002DA32B3E370>,\n",
       "        <matplotlib.axes._subplots.AxesSubplot object at 0x000002DA32B69730>,\n",
       "        <matplotlib.axes._subplots.AxesSubplot object at 0x000002DA32B88D30>]],\n",
       "      dtype=object)"
      ]
     },
     "execution_count": 26,
     "metadata": {},
     "output_type": "execute_result"
    },
    {
     "data": {
      "image/png": "[encoded data removed]",
      "text/plain": [
       "<Figure size 1080x360 with 12 Axes>"
      ]
     },
     "metadata": {
      "needs_background": "light"
     },
     "output_type": "display_data"
    }
   ],
   "source": [
    "#Plotting the histogram\n",
    "df[x].hist(bins = 15, figsize = (15, 5))"
   ]
  },
  {
   "cell_type": "code",
   "execution_count": 27,
   "metadata": {},
   "outputs": [],
   "source": [
    "X = df.iloc[:, 0:19].values\n",
    "y = df.iloc[:, -1].values\n"
   ]
  },
  {
   "cell_type": "code",
   "execution_count": 28,
   "metadata": {},
   "outputs": [
    {
     "data": {
      "text/plain": [
       "array([[ 5.6000e+01,  3.0000e+00,  1.0000e+00, ..., -3.6400e+01,\n",
       "         4.8570e+00,  5.1910e+03],\n",
       "       [ 5.7000e+01,  7.0000e+00,  1.0000e+00, ..., -3.6400e+01,\n",
       "         4.8570e+00,  5.1910e+03],\n",
       "       [ 3.7000e+01,  7.0000e+00,  1.0000e+00, ..., -3.6400e+01,\n",
       "         4.8570e+00,  5.1910e+03],\n",
       "       ...,\n",
       "       [ 5.6000e+01,  5.0000e+00,  1.0000e+00, ..., -5.0800e+01,\n",
       "         1.0280e+00,  4.9636e+03],\n",
       "       [ 4.4000e+01,  9.0000e+00,  1.0000e+00, ..., -5.0800e+01,\n",
       "         1.0280e+00,  4.9636e+03],\n",
       "       [ 7.4000e+01,  5.0000e+00,  1.0000e+00, ..., -5.0800e+01,\n",
       "         1.0280e+00,  4.9636e+03]])"
      ]
     },
     "execution_count": 28,
     "metadata": {},
     "output_type": "execute_result"
    }
   ],
   "source": [
    "X"
   ]
  },
  {
   "cell_type": "code",
   "execution_count": 29,
   "metadata": {},
   "outputs": [
    {
     "data": {
      "text/plain": [
       "array(['no', 'no', 'no', ..., 'no', 'yes', 'no'], dtype=object)"
      ]
     },
     "execution_count": 29,
     "metadata": {},
     "output_type": "execute_result"
    }
   ],
   "source": [
    "y"
   ]
  },
  {
   "cell_type": "code",
   "execution_count": 30,
   "metadata": {},
   "outputs": [],
   "source": [
    "# Splitting the data\n",
    "from sklearn.model_selection import train_test_split\n",
    "X_train, X_test, y_train, y_test = train_test_split(X, y, test_size = 0.20, random_state = 50)"
   ]
  },
  {
   "cell_type": "code",
   "execution_count": 31,
   "metadata": {},
   "outputs": [
    {
     "name": "stdout",
     "output_type": "stream",
     "text": [
      "Shape of X_train: (32950, 19)\n",
      "Shape of X_test: (8238, 19)\n",
      "Shape of y_train: (32950,)\n",
      "Shape of y_test: (8238,)\n"
     ]
    }
   ],
   "source": [
    "print(\"Shape of X_train:\", X_train.shape)\n",
    "print(\"Shape of X_test:\", X_test.shape)\n",
    "print(\"Shape of y_train:\", y_train.shape)\n",
    "print(\"Shape of y_test:\", y_test.shape)"
   ]
  },
  {
   "cell_type": "code",
   "execution_count": 32,
   "metadata": {},
   "outputs": [],
   "source": [
    "# Normalization\n",
    "from sklearn.preprocessing import MinMaxScaler\n",
    "sc = MinMaxScaler()\n",
    "X_train = sc.fit_transform(X_train)\n",
    "X_test = sc.transform(X_test)"
   ]
  },
  {
   "cell_type": "code",
   "execution_count": 33,
   "metadata": {},
   "outputs": [
    {
     "name": "stdout",
     "output_type": "stream",
     "text": [
      "Dummy ACC: 0.80\n"
     ]
    }
   ],
   "source": [
    "# Dummy classifier\n",
    "from sklearn.dummy import DummyClassifier\n",
    "from sklearn.metrics import accuracy_score as acc\n",
    "\n",
    "dummy_clf = DummyClassifier(strategy = 'stratified')\n",
    "dummy_clf.fit(X, y)\n",
    "print(\"Dummy ACC: %.2f\" % acc(y, dummy_clf.predict(X)))"
   ]
  },
  {
   "cell_type": "code",
   "execution_count": 34,
   "metadata": {},
   "outputs": [
    {
     "name": "stdout",
     "output_type": "stream",
     "text": [
      "ACC: 0.78 +/- 0.22\n"
     ]
    }
   ],
   "source": [
    "from sklearn.ensemble import RandomForestClassifier\n",
    "from sklearn.model_selection import cross_val_score\n",
    "from sklearn.metrics import make_scorer\n",
    "\n",
    "clf = RandomForestClassifier(n_estimators=100, max_depth=3)\n",
    "scores = cross_val_score(clf, X, y, cv=10, scoring=make_scorer(acc))\n",
    "print(\"ACC: %.2f +/- %.2f\" % (scores.mean(), scores.std()))"
   ]
  },
  {
   "cell_type": "code",
   "execution_count": 35,
   "metadata": {},
   "outputs": [],
   "source": [
    "from sklearn.ensemble import RandomForestClassifier\n",
    "rfc = RandomForestClassifier(n_estimators = 100, criterion = 'entropy', random_state = 50)\n",
    "rfc.fit(X_train, y_train)\n",
    "pred_rfc = rfc.predict(X_test)\n"
   ]
  },
  {
   "cell_type": "code",
   "execution_count": 36,
   "metadata": {},
   "outputs": [],
   "source": [
    "#Model Evaluation\n",
    "from sklearn.metrics import classification_report, accuracy_score, confusion_matrix"
   ]
  },
  {
   "cell_type": "code",
   "execution_count": 37,
   "metadata": {},
   "outputs": [
    {
     "name": "stdout",
     "output_type": "stream",
     "text": [
      "              precision    recall  f1-score   support\n",
      "\n",
      "          no       0.91      0.97      0.94      7288\n",
      "         yes       0.56      0.31      0.39       950\n",
      "\n",
      "    accuracy                           0.89      8238\n",
      "   macro avg       0.74      0.64      0.67      8238\n",
      "weighted avg       0.87      0.89      0.88      8238\n",
      "\n",
      "0.8920854576353484\n",
      "[[7059  229]\n",
      " [ 660  290]]\n"
     ]
    }
   ],
   "source": [
    "# Reports for Random Forest Classifier\n",
    "print(classification_report(y_test, pred_rfc))\n",
    "print(accuracy_score(y_test, pred_rfc))\n",
    "print(confusion_matrix(y_test, pred_rfc))"
   ]
  },
  {
   "cell_type": "code",
   "execution_count": 38,
   "metadata": {},
   "outputs": [
    {
     "name": "stdout",
     "output_type": "stream",
     "text": [
      "Fitting 10 folds for each of 100 candidates, totalling 1000 fits\n"
     ]
    },
    {
     "name": "stderr",
     "output_type": "stream",
     "text": [
      "[Parallel(n_jobs=1)]: Using backend SequentialBackend with 1 concurrent workers.\n",
      "[Parallel(n_jobs=1)]: Done 1000 out of 1000 | elapsed: 35.5min finished\n"
     ]
    },
    {
     "name": "stdout",
     "output_type": "stream",
     "text": [
      "0.9022458270106222\n",
      "{'max_depth': 7, 'max_features': 7, 'min_samples_split': 7}\n",
      "RandomForestClassifier(max_depth=7, max_features=7, min_samples_split=7)\n"
     ]
    }
   ],
   "source": [
    "# Hyperparameter Tuning\n",
    "from sklearn.model_selection import GridSearchCV\n",
    "\n",
    "# Tuning for Random Forest Classifier\n",
    "from sklearn.ensemble import RandomForestClassifier\n",
    "rfc = RandomForestClassifier()\n",
    "\n",
    "param_grid = {'max_depth': [3, 5, 6, 7, 8], 'max_features': [6,7,8,9,10],  \n",
    "              'min_samples_split': [5, 6, 7, 8]}\n",
    "\n",
    "rf_grid = GridSearchCV(rfc, param_grid, cv=10, refit=True, verbose=1)\n",
    "rf_grid.fit(X_train, y_train)\n",
    "\n",
    "print(rf_grid.best_score_)\n",
    "print(rf_grid.best_params_)\n",
    "print(rf_grid.best_estimator_)"
   ]
  },
  {
   "cell_type": "code",
   "execution_count": 39,
   "metadata": {},
   "outputs": [
    {
     "data": {
      "text/html": [
       "<div>\n",
       "<style scoped>\n",
       "    .dataframe tbody tr th:only-of-type {\n",
       "        vertical-align: middle;\n",
       "    }\n",
       "\n",
       "    .dataframe tbody tr th {\n",
       "        vertical-align: top;\n",
       "    }\n",
       "\n",
       "    .dataframe thead th {\n",
       "        text-align: right;\n",
       "    }\n",
       "</style>\n",
       "<table border=\"1\" class=\"dataframe\">\n",
       "  <thead>\n",
       "    <tr style=\"text-align: right;\">\n",
       "      <th></th>\n",
       "      <th>mean_fit_time</th>\n",
       "      <th>std_fit_time</th>\n",
       "      <th>mean_score_time</th>\n",
       "      <th>std_score_time</th>\n",
       "      <th>param_max_depth</th>\n",
       "      <th>param_max_features</th>\n",
       "      <th>param_min_samples_split</th>\n",
       "      <th>params</th>\n",
       "      <th>split0_test_score</th>\n",
       "      <th>split1_test_score</th>\n",
       "      <th>...</th>\n",
       "      <th>split3_test_score</th>\n",
       "      <th>split4_test_score</th>\n",
       "      <th>split5_test_score</th>\n",
       "      <th>split6_test_score</th>\n",
       "      <th>split7_test_score</th>\n",
       "      <th>split8_test_score</th>\n",
       "      <th>split9_test_score</th>\n",
       "      <th>mean_test_score</th>\n",
       "      <th>std_test_score</th>\n",
       "      <th>rank_test_score</th>\n",
       "    </tr>\n",
       "  </thead>\n",
       "  <tbody>\n",
       "    <tr>\n",
       "      <th>0</th>\n",
       "      <td>2.209084</td>\n",
       "      <td>0.022807</td>\n",
       "      <td>0.066119</td>\n",
       "      <td>0.002380</td>\n",
       "      <td>3</td>\n",
       "      <td>6</td>\n",
       "      <td>5</td>\n",
       "      <td>{'max_depth': 3, 'max_features': 6, 'min_sampl...</td>\n",
       "      <td>0.901366</td>\n",
       "      <td>0.896206</td>\n",
       "      <td>...</td>\n",
       "      <td>0.902883</td>\n",
       "      <td>0.899241</td>\n",
       "      <td>0.898938</td>\n",
       "      <td>0.899848</td>\n",
       "      <td>0.901062</td>\n",
       "      <td>0.899545</td>\n",
       "      <td>0.903187</td>\n",
       "      <td>0.900303</td>\n",
       "      <td>0.001935</td>\n",
       "      <td>99</td>\n",
       "    </tr>\n",
       "    <tr>\n",
       "      <th>1</th>\n",
       "      <td>2.234885</td>\n",
       "      <td>0.061737</td>\n",
       "      <td>0.067826</td>\n",
       "      <td>0.004318</td>\n",
       "      <td>3</td>\n",
       "      <td>6</td>\n",
       "      <td>6</td>\n",
       "      <td>{'max_depth': 3, 'max_features': 6, 'min_sampl...</td>\n",
       "      <td>0.900759</td>\n",
       "      <td>0.896813</td>\n",
       "      <td>...</td>\n",
       "      <td>0.903187</td>\n",
       "      <td>0.899848</td>\n",
       "      <td>0.899241</td>\n",
       "      <td>0.900152</td>\n",
       "      <td>0.901366</td>\n",
       "      <td>0.898331</td>\n",
       "      <td>0.903490</td>\n",
       "      <td>0.900455</td>\n",
       "      <td>0.001953</td>\n",
       "      <td>93</td>\n",
       "    </tr>\n",
       "    <tr>\n",
       "      <th>2</th>\n",
       "      <td>2.218472</td>\n",
       "      <td>0.031562</td>\n",
       "      <td>0.065621</td>\n",
       "      <td>0.001790</td>\n",
       "      <td>3</td>\n",
       "      <td>6</td>\n",
       "      <td>7</td>\n",
       "      <td>{'max_depth': 3, 'max_features': 6, 'min_sampl...</td>\n",
       "      <td>0.901366</td>\n",
       "      <td>0.896510</td>\n",
       "      <td>...</td>\n",
       "      <td>0.903187</td>\n",
       "      <td>0.899848</td>\n",
       "      <td>0.899545</td>\n",
       "      <td>0.899848</td>\n",
       "      <td>0.901062</td>\n",
       "      <td>0.899545</td>\n",
       "      <td>0.902883</td>\n",
       "      <td>0.900486</td>\n",
       "      <td>0.001813</td>\n",
       "      <td>92</td>\n",
       "    </tr>\n",
       "    <tr>\n",
       "      <th>3</th>\n",
       "      <td>2.229147</td>\n",
       "      <td>0.016728</td>\n",
       "      <td>0.066381</td>\n",
       "      <td>0.002949</td>\n",
       "      <td>3</td>\n",
       "      <td>6</td>\n",
       "      <td>8</td>\n",
       "      <td>{'max_depth': 3, 'max_features': 6, 'min_sampl...</td>\n",
       "      <td>0.901062</td>\n",
       "      <td>0.896206</td>\n",
       "      <td>...</td>\n",
       "      <td>0.902883</td>\n",
       "      <td>0.899241</td>\n",
       "      <td>0.899241</td>\n",
       "      <td>0.899848</td>\n",
       "      <td>0.901062</td>\n",
       "      <td>0.898938</td>\n",
       "      <td>0.903187</td>\n",
       "      <td>0.900303</td>\n",
       "      <td>0.001959</td>\n",
       "      <td>99</td>\n",
       "    </tr>\n",
       "    <tr>\n",
       "      <th>4</th>\n",
       "      <td>2.430081</td>\n",
       "      <td>0.020114</td>\n",
       "      <td>0.066802</td>\n",
       "      <td>0.002757</td>\n",
       "      <td>3</td>\n",
       "      <td>7</td>\n",
       "      <td>5</td>\n",
       "      <td>{'max_depth': 3, 'max_features': 7, 'min_sampl...</td>\n",
       "      <td>0.901366</td>\n",
       "      <td>0.896206</td>\n",
       "      <td>...</td>\n",
       "      <td>0.902883</td>\n",
       "      <td>0.899545</td>\n",
       "      <td>0.899241</td>\n",
       "      <td>0.899848</td>\n",
       "      <td>0.901062</td>\n",
       "      <td>0.899848</td>\n",
       "      <td>0.903187</td>\n",
       "      <td>0.900455</td>\n",
       "      <td>0.001910</td>\n",
       "      <td>93</td>\n",
       "    </tr>\n",
       "    <tr>\n",
       "      <th>...</th>\n",
       "      <td>...</td>\n",
       "      <td>...</td>\n",
       "      <td>...</td>\n",
       "      <td>...</td>\n",
       "      <td>...</td>\n",
       "      <td>...</td>\n",
       "      <td>...</td>\n",
       "      <td>...</td>\n",
       "      <td>...</td>\n",
       "      <td>...</td>\n",
       "      <td>...</td>\n",
       "      <td>...</td>\n",
       "      <td>...</td>\n",
       "      <td>...</td>\n",
       "      <td>...</td>\n",
       "      <td>...</td>\n",
       "      <td>...</td>\n",
       "      <td>...</td>\n",
       "      <td>...</td>\n",
       "      <td>...</td>\n",
       "      <td>...</td>\n",
       "    </tr>\n",
       "    <tr>\n",
       "      <th>95</th>\n",
       "      <td>2.105399</td>\n",
       "      <td>0.009505</td>\n",
       "      <td>0.033916</td>\n",
       "      <td>0.000446</td>\n",
       "      <td>8</td>\n",
       "      <td>9</td>\n",
       "      <td>8</td>\n",
       "      <td>{'max_depth': 8, 'max_features': 9, 'min_sampl...</td>\n",
       "      <td>0.904401</td>\n",
       "      <td>0.900455</td>\n",
       "      <td>...</td>\n",
       "      <td>0.905918</td>\n",
       "      <td>0.894385</td>\n",
       "      <td>0.899848</td>\n",
       "      <td>0.904401</td>\n",
       "      <td>0.899848</td>\n",
       "      <td>0.902276</td>\n",
       "      <td>0.903187</td>\n",
       "      <td>0.901942</td>\n",
       "      <td>0.003245</td>\n",
       "      <td>9</td>\n",
       "    </tr>\n",
       "    <tr>\n",
       "      <th>96</th>\n",
       "      <td>2.297535</td>\n",
       "      <td>0.014636</td>\n",
       "      <td>0.033721</td>\n",
       "      <td>0.000602</td>\n",
       "      <td>8</td>\n",
       "      <td>10</td>\n",
       "      <td>5</td>\n",
       "      <td>{'max_depth': 8, 'max_features': 10, 'min_samp...</td>\n",
       "      <td>0.903490</td>\n",
       "      <td>0.900152</td>\n",
       "      <td>...</td>\n",
       "      <td>0.905918</td>\n",
       "      <td>0.894385</td>\n",
       "      <td>0.898938</td>\n",
       "      <td>0.905311</td>\n",
       "      <td>0.899848</td>\n",
       "      <td>0.903490</td>\n",
       "      <td>0.902883</td>\n",
       "      <td>0.901851</td>\n",
       "      <td>0.003333</td>\n",
       "      <td>12</td>\n",
       "    </tr>\n",
       "    <tr>\n",
       "      <th>97</th>\n",
       "      <td>2.303444</td>\n",
       "      <td>0.010085</td>\n",
       "      <td>0.035815</td>\n",
       "      <td>0.005682</td>\n",
       "      <td>8</td>\n",
       "      <td>10</td>\n",
       "      <td>6</td>\n",
       "      <td>{'max_depth': 8, 'max_features': 10, 'min_samp...</td>\n",
       "      <td>0.903794</td>\n",
       "      <td>0.899848</td>\n",
       "      <td>...</td>\n",
       "      <td>0.905008</td>\n",
       "      <td>0.891958</td>\n",
       "      <td>0.899848</td>\n",
       "      <td>0.905311</td>\n",
       "      <td>0.899848</td>\n",
       "      <td>0.903794</td>\n",
       "      <td>0.904097</td>\n",
       "      <td>0.901760</td>\n",
       "      <td>0.003865</td>\n",
       "      <td>13</td>\n",
       "    </tr>\n",
       "    <tr>\n",
       "      <th>98</th>\n",
       "      <td>2.692501</td>\n",
       "      <td>0.185488</td>\n",
       "      <td>0.035207</td>\n",
       "      <td>0.001734</td>\n",
       "      <td>8</td>\n",
       "      <td>10</td>\n",
       "      <td>7</td>\n",
       "      <td>{'max_depth': 8, 'max_features': 10, 'min_samp...</td>\n",
       "      <td>0.905008</td>\n",
       "      <td>0.899848</td>\n",
       "      <td>...</td>\n",
       "      <td>0.905311</td>\n",
       "      <td>0.894082</td>\n",
       "      <td>0.898331</td>\n",
       "      <td>0.904704</td>\n",
       "      <td>0.901062</td>\n",
       "      <td>0.903490</td>\n",
       "      <td>0.903794</td>\n",
       "      <td>0.902033</td>\n",
       "      <td>0.003489</td>\n",
       "      <td>5</td>\n",
       "    </tr>\n",
       "    <tr>\n",
       "      <th>99</th>\n",
       "      <td>2.433975</td>\n",
       "      <td>0.088733</td>\n",
       "      <td>0.035113</td>\n",
       "      <td>0.002391</td>\n",
       "      <td>8</td>\n",
       "      <td>10</td>\n",
       "      <td>8</td>\n",
       "      <td>{'max_depth': 8, 'max_features': 10, 'min_samp...</td>\n",
       "      <td>0.904704</td>\n",
       "      <td>0.898938</td>\n",
       "      <td>...</td>\n",
       "      <td>0.905311</td>\n",
       "      <td>0.893778</td>\n",
       "      <td>0.897117</td>\n",
       "      <td>0.903490</td>\n",
       "      <td>0.899241</td>\n",
       "      <td>0.904401</td>\n",
       "      <td>0.901669</td>\n",
       "      <td>0.901153</td>\n",
       "      <td>0.003583</td>\n",
       "      <td>57</td>\n",
       "    </tr>\n",
       "  </tbody>\n",
       "</table>\n",
       "<p>100 rows × 21 columns</p>\n",
       "</div>"
      ],
      "text/plain": [
       "    mean_fit_time  std_fit_time  mean_score_time  std_score_time  \\\n",
       "0        2.209084      0.022807         0.066119        0.002380   \n",
       "1        2.234885      0.061737         0.067826        0.004318   \n",
       "2        2.218472      0.031562         0.065621        0.001790   \n",
       "3        2.229147      0.016728         0.066381        0.002949   \n",
       "4        2.430081      0.020114         0.066802        0.002757   \n",
       "..            ...           ...              ...             ...   \n",
       "95       2.105399      0.009505         0.033916        0.000446   \n",
       "96       2.297535      0.014636         0.033721        0.000602   \n",
       "97       2.303444      0.010085         0.035815        0.005682   \n",
       "98       2.692501      0.185488         0.035207        0.001734   \n",
       "99       2.433975      0.088733         0.035113        0.002391   \n",
       "\n",
       "   param_max_depth param_max_features param_min_samples_split  \\\n",
       "0                3                  6                       5   \n",
       "1                3                  6                       6   \n",
       "2                3                  6                       7   \n",
       "3                3                  6                       8   \n",
       "4                3                  7                       5   \n",
       "..             ...                ...                     ...   \n",
       "95               8                  9                       8   \n",
       "96               8                 10                       5   \n",
       "97               8                 10                       6   \n",
       "98               8                 10                       7   \n",
       "99               8                 10                       8   \n",
       "\n",
       "                                               params  split0_test_score  \\\n",
       "0   {'max_depth': 3, 'max_features': 6, 'min_sampl...           0.901366   \n",
       "1   {'max_depth': 3, 'max_features': 6, 'min_sampl...           0.900759   \n",
       "2   {'max_depth': 3, 'max_features': 6, 'min_sampl...           0.901366   \n",
       "3   {'max_depth': 3, 'max_features': 6, 'min_sampl...           0.901062   \n",
       "4   {'max_depth': 3, 'max_features': 7, 'min_sampl...           0.901366   \n",
       "..                                                ...                ...   \n",
       "95  {'max_depth': 8, 'max_features': 9, 'min_sampl...           0.904401   \n",
       "96  {'max_depth': 8, 'max_features': 10, 'min_samp...           0.903490   \n",
       "97  {'max_depth': 8, 'max_features': 10, 'min_samp...           0.903794   \n",
       "98  {'max_depth': 8, 'max_features': 10, 'min_samp...           0.905008   \n",
       "99  {'max_depth': 8, 'max_features': 10, 'min_samp...           0.904704   \n",
       "\n",
       "    split1_test_score  ...  split3_test_score  split4_test_score  \\\n",
       "0            0.896206  ...           0.902883           0.899241   \n",
       "1            0.896813  ...           0.903187           0.899848   \n",
       "2            0.896510  ...           0.903187           0.899848   \n",
       "3            0.896206  ...           0.902883           0.899241   \n",
       "4            0.896206  ...           0.902883           0.899545   \n",
       "..                ...  ...                ...                ...   \n",
       "95           0.900455  ...           0.905918           0.894385   \n",
       "96           0.900152  ...           0.905918           0.894385   \n",
       "97           0.899848  ...           0.905008           0.891958   \n",
       "98           0.899848  ...           0.905311           0.894082   \n",
       "99           0.898938  ...           0.905311           0.893778   \n",
       "\n",
       "    split5_test_score  split6_test_score  split7_test_score  \\\n",
       "0            0.898938           0.899848           0.901062   \n",
       "1            0.899241           0.900152           0.901366   \n",
       "2            0.899545           0.899848           0.901062   \n",
       "3            0.899241           0.899848           0.901062   \n",
       "4            0.899241           0.899848           0.901062   \n",
       "..                ...                ...                ...   \n",
       "95           0.899848           0.904401           0.899848   \n",
       "96           0.898938           0.905311           0.899848   \n",
       "97           0.899848           0.905311           0.899848   \n",
       "98           0.898331           0.904704           0.901062   \n",
       "99           0.897117           0.903490           0.899241   \n",
       "\n",
       "    split8_test_score  split9_test_score  mean_test_score  std_test_score  \\\n",
       "0            0.899545           0.903187         0.900303        0.001935   \n",
       "1            0.898331           0.903490         0.900455        0.001953   \n",
       "2            0.899545           0.902883         0.900486        0.001813   \n",
       "3            0.898938           0.903187         0.900303        0.001959   \n",
       "4            0.899848           0.903187         0.900455        0.001910   \n",
       "..                ...                ...              ...             ...   \n",
       "95           0.902276           0.903187         0.901942        0.003245   \n",
       "96           0.903490           0.902883         0.901851        0.003333   \n",
       "97           0.903794           0.904097         0.901760        0.003865   \n",
       "98           0.903490           0.903794         0.902033        0.003489   \n",
       "99           0.904401           0.901669         0.901153        0.003583   \n",
       "\n",
       "    rank_test_score  \n",
       "0                99  \n",
       "1                93  \n",
       "2                92  \n",
       "3                99  \n",
       "4                93  \n",
       "..              ...  \n",
       "95                9  \n",
       "96               12  \n",
       "97               13  \n",
       "98                5  \n",
       "99               57  \n",
       "\n",
       "[100 rows x 21 columns]"
      ]
     },
     "execution_count": 39,
     "metadata": {},
     "output_type": "execute_result"
    }
   ],
   "source": [
    "cv_results = pd.DataFrame(rf_grid.cv_results_)\n",
    "cv_results"
   ]
  },
  {
   "cell_type": "code",
   "execution_count": 40,
   "metadata": {},
   "outputs": [
    {
     "name": "stdout",
     "output_type": "stream",
     "text": [
      "Train Accuracy: 0.9085584218512899\n",
      "Test Accuracy: 0.8979121145909201\n"
     ]
    }
   ],
   "source": [
    "print(\"Train Accuracy:\",rf_grid.score(X_train, y_train))\n",
    "print(\"Test Accuracy:\",rf_grid.score(X_test, y_test))"
   ]
  },
  {
   "cell_type": "code",
   "execution_count": null,
   "metadata": {},
   "outputs": [],
   "source": []
  }
 ],
 "metadata": {
  "kernelspec": {
   "display_name": "Python 3",
   "language": "python",
   "name": "python3"
  },
  "language_info": {
   "codemirror_mode": {
    "name": "ipython",
    "version": 3
   },
   "file_extension": ".py",
   "mimetype": "text/x-python",
   "name": "python",
   "nbconvert_exporter": "python",
   "pygments_lexer": "ipython3",
   "version": "3.8.3"
  }
 },
 "nbformat": 4,
 "nbformat_minor": 4
}
