{
  "nbformat": 4,
  "nbformat_minor": 0,
  "metadata": {
    "colab": {
      "name": "CNN (Task 2).ipynb",
      "provenance": [],
      "toc_visible": true,
      "include_colab_link": true
    },
    "kernelspec": {
      "name": "python3",
      "display_name": "Python 3"
    },
    "accelerator": "GPU"
  },
  "cells": [
    {
      "cell_type": "markdown",
      "metadata": {
        "id": "view-in-github",
        "colab_type": "text"
      },
      "source": [
        "<a href=\"https://colab.research.google.com/github/sriram1105-m/CE888---Data-Science-and-Decision-Making/blob/main/Lab%207/CNN_(Task_2).ipynb\" target=\"_parent\"><img src=\"https://colab.research.google.com/assets/colab-badge.svg\" alt=\"Open In Colab\"/></a>"
      ]
    },
    {
      "cell_type": "markdown",
      "metadata": {
        "id": "qTh9DiKVslsJ"
      },
      "source": [
        "## Dogs vs. Cats \n",
        "\n",
        "In this competition, you'll write an algorithm to classify whether images contain either a dog or a cat.  This is easy for humans, dogs, and cats. Your computer will find it a bit more difficult.\n",
        "\n",
        "![alt text](https://miro.medium.com/max/3000/1*bhFifratH9DjKqMBTeQG5A.gif)\n",
        "\n",
        "Ref: https://medium.com/@thegrigorian/rolling-in-the-deep-cnn-c8d3f7108c8c"
      ]
    },
    {
      "cell_type": "markdown",
      "metadata": {
        "id": "RSBI-_mSSY1g"
      },
      "source": [
        "Get your API Key from Kaggle using following steps:\n",
        "1. Login to [Kaggle](https://www.kaggle.com/) or Register if you don't have account\n",
        "2. Open Dataset (https://www.kaggle.com/c/dogs-vs-cats/rules) and accept terms and condition. \n",
        "3. On the top right corner click on your Icon and go to accounts and press a button \"Create New API Token\". It will download a JSON file containing your username and key. \n",
        "4. Now, paste both below. \n"
      ]
    },
    {
      "cell_type": "code",
      "metadata": {
        "id": "YmXSOc0tZIGA",
        "colab": {
          "base_uri": "https://localhost:8080/"
        },
        "outputId": "dd3bb91a-4a62-4afb-f145-d2f6342c2b1d"
      },
      "source": [
        "import os\n",
        "os.environ['KAGGLE_USERNAME'] = \"srirammurali1105\" # username from the json file\n",
        "os.environ['KAGGLE_KEY'] = \"574bc392058258e5396488dba8dfaae9\" # key from the json file\n",
        "!kaggle competitions download -c dogs-vs-cats # api copied from kaggle (https://www.kaggle.com/c/dogs-vs-cats/data)"
      ],
      "execution_count": 2,
      "outputs": [
        {
          "output_type": "stream",
          "text": [
            "Warning: Looks like you're using an outdated API Version, please consider updating (server 1.5.12 / client 1.5.4)\n",
            "Downloading sampleSubmission.csv to /content\n",
            "  0% 0.00/86.8k [00:00<?, ?B/s]\n",
            "100% 86.8k/86.8k [00:00<00:00, 32.8MB/s]\n",
            "Downloading test1.zip to /content\n",
            " 97% 264M/271M [00:01<00:00, 171MB/s]\n",
            "100% 271M/271M [00:01<00:00, 185MB/s]\n",
            "Downloading train.zip to /content\n",
            " 96% 521M/543M [00:02<00:00, 228MB/s]\n",
            "100% 543M/543M [00:02<00:00, 211MB/s]\n"
          ],
          "name": "stdout"
        }
      ]
    },
    {
      "cell_type": "code",
      "metadata": {
        "id": "PiwIL8d1n7eS",
        "colab": {
          "base_uri": "https://localhost:8080/"
        },
        "outputId": "b0ea4454-8838-4979-bce1-544cc471f064"
      },
      "source": [
        "# Unzip training data\n",
        "from zipfile import ZipFile\n",
        "file_name = \"/content/train.zip\"\n",
        "with ZipFile(file_name, 'r') as zip:\n",
        "  zip.extractall()\n",
        "  print('done')"
      ],
      "execution_count": 3,
      "outputs": [
        {
          "output_type": "stream",
          "text": [
            "done\n"
          ],
          "name": "stdout"
        }
      ]
    },
    {
      "cell_type": "code",
      "metadata": {
        "id": "sa2Bj5i7pPKV",
        "colab": {
          "base_uri": "https://localhost:8080/"
        },
        "outputId": "c105dff5-6e53-4678-e07a-72b77aa67d7b"
      },
      "source": [
        "# Get all the paths\n",
        "data_dir_list = os.listdir('/content/train')\n",
        "#print(data_dir_list)\n",
        "path, dirs, files = next(os.walk(\"/content/train\"))\n",
        "file_count = len(files)\n",
        "print(file_count)"
      ],
      "execution_count": 4,
      "outputs": [
        {
          "output_type": "stream",
          "text": [
            "25000\n"
          ],
          "name": "stdout"
        }
      ]
    },
    {
      "cell_type": "code",
      "metadata": {
        "id": "0ERlHkfHqpK8"
      },
      "source": [
        "# Make new base directory\n",
        "original_dataset_dir = '/content/train'\n",
        "base_dir = '/content/cats_and_dogs_small'\n",
        "os.mkdir(base_dir)"
      ],
      "execution_count": 5,
      "outputs": []
    },
    {
      "cell_type": "code",
      "metadata": {
        "id": "AANB1UJ6rQhM"
      },
      "source": [
        "train_dir = os.path.join(base_dir, 'train')\n",
        "os.mkdir(train_dir)\n",
        "\n",
        "validation_dir = os.path.join(base_dir, 'validation')\n",
        "os.mkdir(validation_dir)\n",
        "\n",
        "test_dir = os.path.join(base_dir, 'test')\n",
        "os.mkdir(test_dir)\n",
        "\n",
        "train_cats_dir = os.path.join(train_dir, 'cats')\n",
        "os.mkdir(train_cats_dir)\n",
        "\n",
        "train_dogs_dir = os.path.join(train_dir, 'dogs')\n",
        "os.mkdir(train_dogs_dir)\n",
        "\n",
        "validation_cats_dir = os.path.join(validation_dir, 'cats')\n",
        "os.mkdir(validation_cats_dir)\n",
        "\n",
        "validation_dogs_dir = os.path.join(validation_dir, 'dogs')\n",
        "os.mkdir(validation_dogs_dir)\n",
        "\n",
        "test_cats_dir = os.path.join(test_dir, 'cats')\n",
        "os.mkdir(test_cats_dir)\n",
        "\n",
        "test_dogs_dir = os.path.join(test_dir, 'dogs')\n",
        "os.mkdir(test_dogs_dir)"
      ],
      "execution_count": 6,
      "outputs": []
    },
    {
      "cell_type": "code",
      "metadata": {
        "id": "ULRgL9s9rV8T"
      },
      "source": [
        "import shutil\n",
        "fnames = ['cat.{}.jpg'.format(i) for i in range(1000)]\n",
        "for fname in fnames:\n",
        "    src = os.path.join(original_dataset_dir, fname)\n",
        "    dst = os.path.join(train_cats_dir, fname)\n",
        "    #print(src,dst)\n",
        "    shutil.copyfile(src, dst)\n",
        "    \n",
        "fnames = ['cat.{}.jpg'.format(i) for i in range(1000, 1500)]\n",
        "for fname in fnames:\n",
        "    src = os.path.join(original_dataset_dir, fname)\n",
        "    dst = os.path.join(validation_cats_dir, fname)\n",
        "    shutil.copyfile(src, dst)\n",
        "\n",
        "fnames = ['cat.{}.jpg'.format(i) for i in range(1500, 2000)]\n",
        "for fname in fnames:\n",
        "    src = os.path.join(original_dataset_dir, fname)\n",
        "    dst = os.path.join(test_cats_dir, fname)\n",
        "    shutil.copyfile(src, dst)\n",
        "    \n",
        "fnames = ['dog.{}.jpg'.format(i) for i in range(1000)]\n",
        "for fname in fnames:\n",
        "    src = os.path.join(original_dataset_dir, fname)\n",
        "    dst = os.path.join(train_dogs_dir, fname)\n",
        "    shutil.copyfile(src, dst)\n",
        "\n",
        "fnames = ['dog.{}.jpg'.format(i) for i in range(1000, 1500)]\n",
        "for fname in fnames:\n",
        "    src = os.path.join(original_dataset_dir, fname)\n",
        "    dst = os.path.join(validation_dogs_dir, fname)\n",
        "    shutil.copyfile(src, dst)\n",
        "\n",
        "fnames = ['dog.{}.jpg'.format(i) for i in range(1500, 2000)]\n",
        "for fname in fnames:\n",
        "    src = os.path.join(original_dataset_dir, fname)\n",
        "    dst = os.path.join(test_dogs_dir, fname)\n",
        "    shutil.copyfile(src, dst)"
      ],
      "execution_count": 7,
      "outputs": []
    },
    {
      "cell_type": "code",
      "metadata": {
        "id": "ul3XAbIyr7vC",
        "colab": {
          "base_uri": "https://localhost:8080/"
        },
        "outputId": "5570aa6f-2db3-4611-a5ca-b5377a365be1"
      },
      "source": [
        "print('total training cat images:', len(os.listdir(train_cats_dir)))\n",
        "print('total training dog images:', len(os.listdir(train_dogs_dir)))\n",
        "print('total validation cat images:', len(os.listdir(validation_cats_dir)))\n",
        "\n",
        "print('total validation dog images:', len(os.listdir(validation_dogs_dir)))\n",
        "print('total test cat images:', len(os.listdir(test_cats_dir)))\n",
        "print('total test dog images:', len(os.listdir(test_dogs_dir)))"
      ],
      "execution_count": 8,
      "outputs": [
        {
          "output_type": "stream",
          "text": [
            "total training cat images: 1000\n",
            "total training dog images: 1000\n",
            "total validation cat images: 500\n",
            "total validation dog images: 500\n",
            "total test cat images: 500\n",
            "total test dog images: 500\n"
          ],
          "name": "stdout"
        }
      ]
    },
    {
      "cell_type": "code",
      "metadata": {
        "id": "o9yTA21_r-ma",
        "colab": {
          "base_uri": "https://localhost:8080/"
        },
        "outputId": "fb9a3e12-cb8d-45e4-d7f6-0f94743b453b"
      },
      "source": [
        "from keras import layers\n",
        "from keras import models\n",
        "\n",
        "\n",
        "model = models.Sequential()\n",
        "model.add(layers.Conv2D(32, (3, 3), activation='relu', input_shape=(150, 150, 3)))\n",
        "model.add(layers.MaxPooling2D((2, 2)))\n",
        "model.add(layers.Conv2D(64, (3, 3), activation='relu'))\n",
        "model.add(layers.MaxPooling2D((2, 2)))\n",
        "model.add(layers.Conv2D(128, (3, 3), activation='relu'))\n",
        "model.add(layers.MaxPooling2D((2, 2)))\n",
        "model.add(layers.Conv2D(128, (3, 3), activation='relu'))\n",
        "model.add(layers.MaxPooling2D((2, 2)))\n",
        "model.add(layers.Flatten())\n",
        "model.add(layers.Dense(512, activation='relu'))\n",
        "model.add(layers.Dense(1, activation='sigmoid'))\n",
        "model.summary()"
      ],
      "execution_count": 9,
      "outputs": [
        {
          "output_type": "stream",
          "text": [
            "Model: \"sequential\"\n",
            "_________________________________________________________________\n",
            "Layer (type)                 Output Shape              Param #   \n",
            "=================================================================\n",
            "conv2d (Conv2D)              (None, 148, 148, 32)      896       \n",
            "_________________________________________________________________\n",
            "max_pooling2d (MaxPooling2D) (None, 74, 74, 32)        0         \n",
            "_________________________________________________________________\n",
            "conv2d_1 (Conv2D)            (None, 72, 72, 64)        18496     \n",
            "_________________________________________________________________\n",
            "max_pooling2d_1 (MaxPooling2 (None, 36, 36, 64)        0         \n",
            "_________________________________________________________________\n",
            "conv2d_2 (Conv2D)            (None, 34, 34, 128)       73856     \n",
            "_________________________________________________________________\n",
            "max_pooling2d_2 (MaxPooling2 (None, 17, 17, 128)       0         \n",
            "_________________________________________________________________\n",
            "conv2d_3 (Conv2D)            (None, 15, 15, 128)       147584    \n",
            "_________________________________________________________________\n",
            "max_pooling2d_3 (MaxPooling2 (None, 7, 7, 128)         0         \n",
            "_________________________________________________________________\n",
            "flatten (Flatten)            (None, 6272)              0         \n",
            "_________________________________________________________________\n",
            "dense (Dense)                (None, 512)               3211776   \n",
            "_________________________________________________________________\n",
            "dense_1 (Dense)              (None, 1)                 513       \n",
            "=================================================================\n",
            "Total params: 3,453,121\n",
            "Trainable params: 3,453,121\n",
            "Non-trainable params: 0\n",
            "_________________________________________________________________\n"
          ],
          "name": "stdout"
        }
      ]
    },
    {
      "cell_type": "code",
      "metadata": {
        "id": "2mG8wekxsBVS"
      },
      "source": [
        "from keras import optimizers\n",
        "model.compile(loss='binary_crossentropy', \n",
        "              optimizer=optimizers.RMSprop(lr=1e-4),\n",
        "              metrics=['acc'])"
      ],
      "execution_count": 10,
      "outputs": []
    },
    {
      "cell_type": "markdown",
      "metadata": {
        "id": "7zS4Klm8qWp6"
      },
      "source": [
        "## Using ImageDataGenerator to read images from directories\n",
        "As you know by now, data should be formatted into appropriately preprocessed floatingpoint tensors before being fed into the network. Currently, the data sits on a drive as JPEG files, so the steps for getting it into the network are roughly as follows:\n",
        "\n",
        "* Read the picture files.\n",
        "* Decode the JPEG content to RGB grids of pixels.\n",
        "* Convert these into floating-point tensors.\n",
        "* Rescale the pixel values (between 0 and 255) to the [0, 1] interval (as you know, neural networks prefer to deal with small input values).\n",
        "\n",
        "It may seem a bit daunting, but fortunately Keras has utilities to take care of these steps automatically. Keras has a module with image-processing helper tools, located at keras.preprocessing.image. In particular, it contains the class ImageDataGenerator,which lets you quickly set up Python generators that can automatically turn image files on disk into batches of preprocessed tensors."
      ]
    },
    {
      "cell_type": "code",
      "metadata": {
        "id": "XJ7XU7t9sEh6",
        "colab": {
          "base_uri": "https://localhost:8080/"
        },
        "outputId": "0da421ca-7434-4eaf-b4ad-65e9966bc8e8"
      },
      "source": [
        "from keras.preprocessing.image import ImageDataGenerator\n",
        "\n",
        "train_datagen = ImageDataGenerator(rescale=1./255)\n",
        "test_datagen = ImageDataGenerator(rescale=1./255)\n",
        "\n",
        "train_generator = train_datagen.flow_from_directory(train_dir,\n",
        "                                                    target_size=(150, 150), \n",
        "                                                    batch_size=20,\n",
        "                                                    class_mode='binary')\n",
        "\n",
        "validation_generator = test_datagen.flow_from_directory(validation_dir,\n",
        "                                                        target_size=(150, 150),\n",
        "                                                        batch_size=20,\n",
        "                                                        class_mode='binary')"
      ],
      "execution_count": 11,
      "outputs": [
        {
          "output_type": "stream",
          "text": [
            "Found 2000 images belonging to 2 classes.\n",
            "Found 1000 images belonging to 2 classes.\n"
          ],
          "name": "stdout"
        }
      ]
    },
    {
      "cell_type": "markdown",
      "metadata": {
        "id": "SEgLywySqm4u"
      },
      "source": [
        "Let’s fit the model to the data using the generator. You do so using the fit_generator method, the equivalent of fit for data generators like this one. It expects as its first argument a Python generator that will yield batches of inputs and targets indefinitely,like this one does. Because the data is being generated endlessly, the Keras model needs to know how many samples to draw from the generator before declaring anepoch over. This is the role of the `steps_per_epoch` argument: after having drawn `steps_per_epoch` batches from the generator—that is, after having run for `steps_per_epoch` gradient descent steps—the fitting process will go to the next epoch. In this case, batches are 20 samples, so it will take 100 batches until you see your target of 2,000 samples.\n",
        "\n",
        "When using fit_generator, you can pass a validation_data argument, much as with the fit method. It’s important to note that this argument is allowed to be a data generator, but it could also be a tuple of Numpy arrays. If you pass a generator as validation_data, then this generator is expected to yield batches of validation data endlessly; thus you should also specify the validation_steps argument, which tells the process how many batches to draw from the validation generator for evaluation."
      ]
    },
    {
      "cell_type": "code",
      "metadata": {
        "id": "yMyfPphJsJG6",
        "colab": {
          "base_uri": "https://localhost:8080/"
        },
        "outputId": "87dccbd8-eda4-4882-acc8-a89e17ee5afd"
      },
      "source": [
        "history = model.fit_generator(train_generator,\n",
        "                              steps_per_epoch=100,\n",
        "                              epochs=30,\n",
        "                              validation_data=validation_generator,\n",
        "                              validation_steps=10)"
      ],
      "execution_count": 12,
      "outputs": [
        {
          "output_type": "stream",
          "text": [
            "/usr/local/lib/python3.7/dist-packages/tensorflow/python/keras/engine/training.py:1844: UserWarning: `Model.fit_generator` is deprecated and will be removed in a future version. Please use `Model.fit`, which supports generators.\n",
            "  warnings.warn('`Model.fit_generator` is deprecated and '\n"
          ],
          "name": "stderr"
        },
        {
          "output_type": "stream",
          "text": [
            "Epoch 1/30\n",
            "100/100 [==============================] - 40s 70ms/step - loss: 0.6921 - acc: 0.5226 - val_loss: 0.6712 - val_acc: 0.6100\n",
            "Epoch 2/30\n",
            "100/100 [==============================] - 7s 68ms/step - loss: 0.6618 - acc: 0.6051 - val_loss: 0.6342 - val_acc: 0.6250\n",
            "Epoch 3/30\n",
            "100/100 [==============================] - 7s 68ms/step - loss: 0.6213 - acc: 0.6674 - val_loss: 0.5849 - val_acc: 0.6900\n",
            "Epoch 4/30\n",
            "100/100 [==============================] - 7s 68ms/step - loss: 0.5782 - acc: 0.6987 - val_loss: 0.5980 - val_acc: 0.6450\n",
            "Epoch 5/30\n",
            "100/100 [==============================] - 7s 67ms/step - loss: 0.5457 - acc: 0.7096 - val_loss: 0.5664 - val_acc: 0.6900\n",
            "Epoch 6/30\n",
            "100/100 [==============================] - 7s 67ms/step - loss: 0.5089 - acc: 0.7384 - val_loss: 0.5371 - val_acc: 0.7200\n",
            "Epoch 7/30\n",
            "100/100 [==============================] - 7s 68ms/step - loss: 0.4717 - acc: 0.7799 - val_loss: 0.5514 - val_acc: 0.7000\n",
            "Epoch 8/30\n",
            "100/100 [==============================] - 7s 68ms/step - loss: 0.4477 - acc: 0.7826 - val_loss: 0.6193 - val_acc: 0.6750\n",
            "Epoch 9/30\n",
            "100/100 [==============================] - 7s 69ms/step - loss: 0.4455 - acc: 0.7885 - val_loss: 0.5394 - val_acc: 0.7300\n",
            "Epoch 10/30\n",
            "100/100 [==============================] - 7s 69ms/step - loss: 0.3932 - acc: 0.8267 - val_loss: 0.5523 - val_acc: 0.7350\n",
            "Epoch 11/30\n",
            "100/100 [==============================] - 7s 69ms/step - loss: 0.3767 - acc: 0.8354 - val_loss: 0.5799 - val_acc: 0.7000\n",
            "Epoch 12/30\n",
            "100/100 [==============================] - 7s 69ms/step - loss: 0.3563 - acc: 0.8416 - val_loss: 0.5953 - val_acc: 0.6850\n",
            "Epoch 13/30\n",
            "100/100 [==============================] - 7s 69ms/step - loss: 0.3478 - acc: 0.8526 - val_loss: 0.5995 - val_acc: 0.7050\n",
            "Epoch 14/30\n",
            "100/100 [==============================] - 7s 69ms/step - loss: 0.3205 - acc: 0.8619 - val_loss: 0.4993 - val_acc: 0.7550\n",
            "Epoch 15/30\n",
            "100/100 [==============================] - 7s 71ms/step - loss: 0.2988 - acc: 0.8828 - val_loss: 0.5832 - val_acc: 0.7300\n",
            "Epoch 16/30\n",
            "100/100 [==============================] - 7s 71ms/step - loss: 0.2650 - acc: 0.8934 - val_loss: 0.5331 - val_acc: 0.7350\n",
            "Epoch 17/30\n",
            "100/100 [==============================] - 7s 70ms/step - loss: 0.2487 - acc: 0.9046 - val_loss: 0.5516 - val_acc: 0.7650\n",
            "Epoch 18/30\n",
            "100/100 [==============================] - 7s 70ms/step - loss: 0.2061 - acc: 0.9247 - val_loss: 0.6869 - val_acc: 0.7250\n",
            "Epoch 19/30\n",
            "100/100 [==============================] - 7s 70ms/step - loss: 0.2058 - acc: 0.9294 - val_loss: 0.5883 - val_acc: 0.7250\n",
            "Epoch 20/30\n",
            "100/100 [==============================] - 7s 70ms/step - loss: 0.1827 - acc: 0.9419 - val_loss: 0.6640 - val_acc: 0.7450\n",
            "Epoch 21/30\n",
            "100/100 [==============================] - 7s 69ms/step - loss: 0.1779 - acc: 0.9322 - val_loss: 0.6316 - val_acc: 0.7350\n",
            "Epoch 22/30\n",
            "100/100 [==============================] - 7s 69ms/step - loss: 0.1394 - acc: 0.9504 - val_loss: 0.6012 - val_acc: 0.7650\n",
            "Epoch 23/30\n",
            "100/100 [==============================] - 7s 69ms/step - loss: 0.1351 - acc: 0.9569 - val_loss: 0.5172 - val_acc: 0.8000\n",
            "Epoch 24/30\n",
            "100/100 [==============================] - 7s 69ms/step - loss: 0.1227 - acc: 0.9628 - val_loss: 0.6965 - val_acc: 0.6900\n",
            "Epoch 25/30\n",
            "100/100 [==============================] - 7s 70ms/step - loss: 0.1018 - acc: 0.9721 - val_loss: 0.6649 - val_acc: 0.7350\n",
            "Epoch 26/30\n",
            "100/100 [==============================] - 7s 70ms/step - loss: 0.0947 - acc: 0.9672 - val_loss: 0.6412 - val_acc: 0.7400\n",
            "Epoch 27/30\n",
            "100/100 [==============================] - 7s 69ms/step - loss: 0.0860 - acc: 0.9702 - val_loss: 0.6714 - val_acc: 0.7700\n",
            "Epoch 28/30\n",
            "100/100 [==============================] - 7s 69ms/step - loss: 0.0676 - acc: 0.9803 - val_loss: 0.5962 - val_acc: 0.7900\n",
            "Epoch 29/30\n",
            "100/100 [==============================] - 7s 68ms/step - loss: 0.0612 - acc: 0.9874 - val_loss: 0.8330 - val_acc: 0.7450\n",
            "Epoch 30/30\n",
            "100/100 [==============================] - 7s 70ms/step - loss: 0.0570 - acc: 0.9830 - val_loss: 0.8715 - val_acc: 0.7100\n"
          ],
          "name": "stdout"
        }
      ]
    },
    {
      "cell_type": "code",
      "metadata": {
        "id": "MZaZ2HWZsNUi",
        "colab": {
          "base_uri": "https://localhost:8080/",
          "height": 545
        },
        "outputId": "37b53d4f-6c87-42d4-cc1e-60a6654856ef"
      },
      "source": [
        "model.save('cats_and_dogs_small_1.h5')\n",
        "\n",
        "import matplotlib.pyplot as plt\n",
        "\n",
        "acc = history.history['acc']\n",
        "val_acc = history.history['val_acc']\n",
        "loss = history.history['loss']\n",
        "val_loss = history.history['val_loss']\n",
        "\n",
        "epochs = range(1, len(acc) + 1)\n",
        "\n",
        "plt.plot(epochs, acc, 'bo', label='Training acc')\n",
        "plt.plot(epochs, val_acc, 'b', label='Validation acc')\n",
        "plt.title('Training and validation accuracy')\n",
        "plt.legend()\n",
        "\n",
        "plt.figure()\n",
        "\n",
        "plt.plot(epochs, loss, 'bo', label='Training loss')\n",
        "plt.plot(epochs, val_loss, 'b', label='Validation loss')\n",
        "plt.title('Training and validation loss')\n",
        "plt.legend()\n",
        "\n",
        "plt.show()"
      ],
      "execution_count": 13,
      "outputs": [
        {
          "output_type": "display_data",
          "data": {
            "image/png": "[encoded data removed]",
            "text/plain": [
              "<Figure size 432x288 with 1 Axes>"
            ]
          },
          "metadata": {
            "tags": [],
            "needs_background": "light"
          }
        },
        {
          "output_type": "display_data",
          "data": {
            "image/png": "[encoded data removed]",
            "text/plain": [
              "<Figure size 432x288 with 1 Axes>"
            ]
          },
          "metadata": {
            "tags": [],
            "needs_background": "light"
          }
        }
      ]
    },
    {
      "cell_type": "markdown",
      "metadata": {
        "id": "XKZmXmBcq_8-"
      },
      "source": [
        "## Convolutional Networks with Dropout\n",
        "\n",
        "![alt text](https://camo.githubusercontent.com/ee6fa1073247cd2c3d241300caf110d7a7541bc5/68747470733a2f2f63646e2d696d616765732d312e6d656469756d2e636f6d2f6d61782f3830302f312a4972644a355067684439596f4f7956415137334d4a772e676966)\n",
        "\n",
        "Ref: https://github.com/mneha4/Training-Neural-Nets---Guidelines"
      ]
    },
    {
      "cell_type": "code",
      "metadata": {
        "id": "wu3cqeYQrDeN"
      },
      "source": [
        "model = models.Sequential()\n",
        "model.add(layers.Conv2D(32, (3, 3), activation='relu',\n",
        "input_shape=(150, 150, 3)))\n",
        "model.add(layers.MaxPooling2D((2, 2)))\n",
        "model.add(layers.Conv2D(64, (3, 3), activation='relu'))\n",
        "model.add(layers.MaxPooling2D((2, 2)))\n",
        "model.add(layers.Conv2D(128, (3, 3), activation='relu'))\n",
        "model.add(layers.MaxPooling2D((2, 2)))\n",
        "model.add(layers.Conv2D(128, (3, 3), activation='relu'))\n",
        "model.add(layers.MaxPooling2D((2, 2)))\n",
        "model.add(layers.Flatten())\n",
        "model.add(layers.Dropout(0.5))\n",
        "model.add(layers.Dense(512, activation='relu'))\n",
        "model.add(layers.Dense(1, activation='sigmoid'))\n",
        "\n",
        "model.compile(loss='binary_crossentropy',\n",
        "              optimizer=optimizers.RMSprop(lr=1e-4),\n",
        "              metrics=['acc'])"
      ],
      "execution_count": 14,
      "outputs": []
    },
    {
      "cell_type": "code",
      "metadata": {
        "id": "QSeLpvY0rH7F",
        "colab": {
          "base_uri": "https://localhost:8080/"
        },
        "outputId": "a1c7dac6-e322-4adc-a16d-5a843488bea2"
      },
      "source": [
        "\n",
        "train_datagen = ImageDataGenerator(rescale=1./255,\n",
        "                                   rotation_range=40,\n",
        "                                   width_shift_range=0.2,\n",
        "                                   height_shift_range=0.2,\n",
        "                                   shear_range=0.2,\n",
        "                                   zoom_range=0.2,\n",
        "                                   horizontal_flip=True,)\n",
        "\n",
        "test_datagen = ImageDataGenerator(rescale=1./255)\n",
        "\n",
        "train_generator = train_datagen.flow_from_directory(train_dir,\n",
        "                                                    target_size=(150, 150),\n",
        "                                                    batch_size=32,\n",
        "                                                    class_mode='binary')\n",
        "\n",
        "validation_generator = test_datagen.flow_from_directory(validation_dir,\n",
        "                                                        target_size=(150, 150),\n",
        "                                                        batch_size=32,\n",
        "                                                        class_mode='binary')\n",
        "\n",
        "history = model.fit_generator(train_generator,\n",
        "                              steps_per_epoch=50,\n",
        "                              epochs=20,\n",
        "                              validation_data=validation_generator,\n",
        "                              validation_steps=50)"
      ],
      "execution_count": 24,
      "outputs": [
        {
          "output_type": "stream",
          "text": [
            "Found 2000 images belonging to 2 classes.\n",
            "Found 1000 images belonging to 2 classes.\n"
          ],
          "name": "stdout"
        },
        {
          "output_type": "stream",
          "text": [
            "/usr/local/lib/python3.7/dist-packages/tensorflow/python/keras/engine/training.py:1844: UserWarning: `Model.fit_generator` is deprecated and will be removed in a future version. Please use `Model.fit`, which supports generators.\n",
            "  warnings.warn('`Model.fit_generator` is deprecated and '\n"
          ],
          "name": "stderr"
        },
        {
          "output_type": "stream",
          "text": [
            "Epoch 1/20\n",
            "50/50 [==============================] - ETA: 0s - loss: 0.6719 - acc: 0.5707WARNING:tensorflow:Your input ran out of data; interrupting training. Make sure that your dataset or generator can generate at least `steps_per_epoch * epochs` batches (in this case, 50 batches). You may need to use the repeat() function when building your dataset.\n",
            "50/50 [==============================] - 14s 287ms/step - loss: 0.6719 - acc: 0.5707 - val_loss: 0.6484 - val_acc: 0.6030\n",
            "Epoch 2/20\n",
            "50/50 [==============================] - 12s 231ms/step - loss: 0.6671 - acc: 0.5764\n",
            "Epoch 3/20\n",
            "50/50 [==============================] - 12s 230ms/step - loss: 0.6605 - acc: 0.5915\n",
            "Epoch 4/20\n",
            "50/50 [==============================] - 11s 229ms/step - loss: 0.6431 - acc: 0.6263\n",
            "Epoch 5/20\n",
            "50/50 [==============================] - 12s 234ms/step - loss: 0.6318 - acc: 0.6307\n",
            "Epoch 6/20\n",
            "50/50 [==============================] - 12s 238ms/step - loss: 0.6372 - acc: 0.6381\n",
            "Epoch 7/20\n",
            "50/50 [==============================] - 12s 236ms/step - loss: 0.6202 - acc: 0.6559\n",
            "Epoch 8/20\n",
            "50/50 [==============================] - 12s 231ms/step - loss: 0.6169 - acc: 0.6698\n",
            "Epoch 9/20\n",
            "50/50 [==============================] - 11s 229ms/step - loss: 0.6129 - acc: 0.6604\n",
            "Epoch 10/20\n",
            "50/50 [==============================] - 12s 231ms/step - loss: 0.5961 - acc: 0.6679\n",
            "Epoch 11/20\n",
            "50/50 [==============================] - 12s 233ms/step - loss: 0.5952 - acc: 0.6812\n",
            "Epoch 12/20\n",
            "50/50 [==============================] - 12s 232ms/step - loss: 0.5924 - acc: 0.6794\n",
            "Epoch 13/20\n",
            "50/50 [==============================] - 12s 232ms/step - loss: 0.5901 - acc: 0.6907\n",
            "Epoch 14/20\n",
            "50/50 [==============================] - 12s 232ms/step - loss: 0.5910 - acc: 0.6768\n",
            "Epoch 15/20\n",
            "50/50 [==============================] - 11s 229ms/step - loss: 0.5886 - acc: 0.6900\n",
            "Epoch 16/20\n",
            "50/50 [==============================] - 12s 231ms/step - loss: 0.5775 - acc: 0.7001\n",
            "Epoch 17/20\n",
            "50/50 [==============================] - 12s 233ms/step - loss: 0.5737 - acc: 0.7019\n",
            "Epoch 18/20\n",
            "50/50 [==============================] - 11s 229ms/step - loss: 0.5736 - acc: 0.6881\n",
            "Epoch 19/20\n",
            "50/50 [==============================] - 12s 230ms/step - loss: 0.5688 - acc: 0.7045\n",
            "Epoch 20/20\n",
            "50/50 [==============================] - 11s 229ms/step - loss: 0.5639 - acc: 0.7115\n"
          ],
          "name": "stdout"
        }
      ]
    },
    {
      "cell_type": "markdown",
      "metadata": {
        "id": "BRdU5yrkUF_b"
      },
      "source": [
        "# Task 2:\n",
        "\n",
        "We have used Dropout to enhance the performance of the CNN model. Can you please use whatever you like to further enhance the performance from `val_acc: 0.7506`? "
      ]
    },
    {
      "cell_type": "code",
      "metadata": {
        "id": "M2ngUcfuaSBX"
      },
      "source": [
        "from keras.regularizers import l1\n",
        "from keras import optimizers\n",
        "from keras.layers import BatchNormalization\n",
        "\n",
        "from keras.models import Sequential\n",
        "from tensorflow.keras.layers import Conv2D, MaxPooling2D, Flatten, Dense, Dropout, Activation\n",
        "from tensorflow.keras.optimizers import Adam"
      ],
      "execution_count": 71,
      "outputs": []
    },
    {
      "cell_type": "code",
      "metadata": {
        "colab": {
          "base_uri": "https://localhost:8080/"
        },
        "id": "CSS5OT4P-254",
        "outputId": "5b5c96b1-59d3-4824-c845-36c0ec8456ca"
      },
      "source": [
        "# Making some alteration sin the layers \n",
        "# Introducing Batch Normalization technique\n",
        "model = Sequential()\n",
        "\n",
        "model.add(Conv2D(32, (3, 3), activation='relu', input_shape=(150, 150, 3)))\n",
        "model.add(BatchNormalization())\n",
        "model.add(MaxPooling2D(pool_size=(2, 2)))\n",
        "model.add(Dropout(0.25))\n",
        "\n",
        "model.add(Conv2D(64, (3, 3), activation='relu'))\n",
        "model.add(BatchNormalization())\n",
        "model.add(MaxPooling2D(pool_size=(2, 2)))\n",
        "model.add(Dropout(0.25))\n",
        "\n",
        "model.add(Conv2D(128, (3, 3), activation='relu'))\n",
        "model.add(BatchNormalization())\n",
        "model.add(MaxPooling2D(pool_size=(2, 2)))\n",
        "model.add(Dropout(0.25))\n",
        "\n",
        "model.add(Flatten())\n",
        "model.add(Dense(512, activation='relu'))\n",
        "model.add(BatchNormalization())\n",
        "model.add(Dropout(0.5))\n",
        "model.add(Dense(2, activation='softmax')) # 2 because we have cat and dog classes\n",
        "\n",
        "model.compile(loss='categorical_crossentropy', optimizer='rmsprop', metrics=['accuracy'])\n",
        "\n",
        "model.summary()"
      ],
      "execution_count": 77,
      "outputs": [
        {
          "output_type": "stream",
          "text": [
            "Model: \"sequential_16\"\n",
            "_________________________________________________________________\n",
            "Layer (type)                 Output Shape              Param #   \n",
            "=================================================================\n",
            "conv2d_35 (Conv2D)           (None, 148, 148, 32)      896       \n",
            "_________________________________________________________________\n",
            "batch_normalization_9 (Batch (None, 148, 148, 32)      128       \n",
            "_________________________________________________________________\n",
            "max_pooling2d_31 (MaxPooling (None, 74, 74, 32)        0         \n",
            "_________________________________________________________________\n",
            "dropout_14 (Dropout)         (None, 74, 74, 32)        0         \n",
            "_________________________________________________________________\n",
            "conv2d_36 (Conv2D)           (None, 72, 72, 64)        18496     \n",
            "_________________________________________________________________\n",
            "batch_normalization_10 (Batc (None, 72, 72, 64)        256       \n",
            "_________________________________________________________________\n",
            "max_pooling2d_32 (MaxPooling (None, 36, 36, 64)        0         \n",
            "_________________________________________________________________\n",
            "dropout_15 (Dropout)         (None, 36, 36, 64)        0         \n",
            "_________________________________________________________________\n",
            "conv2d_37 (Conv2D)           (None, 34, 34, 128)       73856     \n",
            "_________________________________________________________________\n",
            "batch_normalization_11 (Batc (None, 34, 34, 128)       512       \n",
            "_________________________________________________________________\n",
            "max_pooling2d_33 (MaxPooling (None, 17, 17, 128)       0         \n",
            "_________________________________________________________________\n",
            "dropout_16 (Dropout)         (None, 17, 17, 128)       0         \n",
            "_________________________________________________________________\n",
            "flatten_12 (Flatten)         (None, 36992)             0         \n",
            "_________________________________________________________________\n",
            "dense_24 (Dense)             (None, 512)               18940416  \n",
            "_________________________________________________________________\n",
            "batch_normalization_12 (Batc (None, 512)               2048      \n",
            "_________________________________________________________________\n",
            "dropout_17 (Dropout)         (None, 512)               0         \n",
            "_________________________________________________________________\n",
            "dense_25 (Dense)             (None, 2)                 1026      \n",
            "=================================================================\n",
            "Total params: 19,037,634\n",
            "Trainable params: 19,036,162\n",
            "Non-trainable params: 1,472\n",
            "_________________________________________________________________\n"
          ],
          "name": "stdout"
        }
      ]
    },
    {
      "cell_type": "code",
      "metadata": {
        "id": "gxg3NVwf_mrW"
      },
      "source": [
        "model.compile(optimizer=\"adam\", loss=\"sparse_categorical_crossentropy\", metrics=['accuracy'])"
      ],
      "execution_count": 78,
      "outputs": []
    },
    {
      "cell_type": "code",
      "metadata": {
        "id": "qEFWi_7U_rUQ"
      },
      "source": [
        "# Changing the batch size \n",
        "\n",
        "batch_size = 256\n",
        "steps = 50\n",
        "epochs = 25"
      ],
      "execution_count": 79,
      "outputs": []
    },
    {
      "cell_type": "code",
      "metadata": {
        "colab": {
          "base_uri": "https://localhost:8080/"
        },
        "id": "UuyYtszZ_rW8",
        "outputId": "6445fad1-b0a0-4f6e-a79d-94d3b062e329"
      },
      "source": [
        "history = model.fit(train_generator,\n",
        "                    batch_size = batch_size,\n",
        "                    steps_per_epoch = steps,\n",
        "                    epochs = epochs,\n",
        "                    \n",
        "                    validation_steps = steps)"
      ],
      "execution_count": 80,
      "outputs": [
        {
          "output_type": "stream",
          "text": [
            "Epoch 1/25\n",
            "50/50 [==============================] - 12s 231ms/step - loss: 1.6816 - accuracy: 0.5381\n",
            "Epoch 2/25\n",
            "50/50 [==============================] - 12s 233ms/step - loss: 0.9657 - accuracy: 0.5691\n",
            "Epoch 3/25\n",
            "50/50 [==============================] - 12s 236ms/step - loss: 0.9050 - accuracy: 0.6056\n",
            "Epoch 4/25\n",
            "50/50 [==============================] - 12s 233ms/step - loss: 0.8408 - accuracy: 0.5892\n",
            "Epoch 5/25\n",
            "50/50 [==============================] - 12s 232ms/step - loss: 0.7948 - accuracy: 0.5901\n",
            "Epoch 6/25\n",
            "50/50 [==============================] - 12s 233ms/step - loss: 0.7200 - accuracy: 0.6222\n",
            "Epoch 7/25\n",
            "50/50 [==============================] - 12s 233ms/step - loss: 0.7165 - accuracy: 0.6225\n",
            "Epoch 8/25\n",
            "50/50 [==============================] - 12s 230ms/step - loss: 0.6368 - accuracy: 0.6664\n",
            "Epoch 9/25\n",
            "50/50 [==============================] - 12s 236ms/step - loss: 0.6477 - accuracy: 0.6550\n",
            "Epoch 10/25\n",
            "50/50 [==============================] - 12s 245ms/step - loss: 0.6722 - accuracy: 0.6372\n",
            "Epoch 11/25\n",
            "50/50 [==============================] - 12s 231ms/step - loss: 0.6611 - accuracy: 0.6135\n",
            "Epoch 12/25\n",
            "50/50 [==============================] - 12s 231ms/step - loss: 0.6017 - accuracy: 0.6668\n",
            "Epoch 13/25\n",
            "50/50 [==============================] - 12s 232ms/step - loss: 0.6197 - accuracy: 0.6711\n",
            "Epoch 14/25\n",
            "50/50 [==============================] - 12s 231ms/step - loss: 0.5719 - accuracy: 0.6859\n",
            "Epoch 15/25\n",
            "50/50 [==============================] - 11s 229ms/step - loss: 0.6012 - accuracy: 0.6701\n",
            "Epoch 16/25\n",
            "50/50 [==============================] - 12s 231ms/step - loss: 0.5728 - accuracy: 0.7025\n",
            "Epoch 17/25\n",
            "50/50 [==============================] - 12s 232ms/step - loss: 0.6109 - accuracy: 0.6680\n",
            "Epoch 18/25\n",
            "50/50 [==============================] - 12s 231ms/step - loss: 0.5635 - accuracy: 0.7004\n",
            "Epoch 19/25\n",
            "50/50 [==============================] - 11s 229ms/step - loss: 0.5438 - accuracy: 0.7176\n",
            "Epoch 20/25\n",
            "50/50 [==============================] - 12s 229ms/step - loss: 0.5589 - accuracy: 0.7388\n",
            "Epoch 21/25\n",
            "50/50 [==============================] - 11s 229ms/step - loss: 0.5679 - accuracy: 0.6879\n",
            "Epoch 22/25\n",
            "50/50 [==============================] - 12s 232ms/step - loss: 0.5311 - accuracy: 0.7336\n",
            "Epoch 23/25\n",
            "50/50 [==============================] - 12s 234ms/step - loss: 0.5869 - accuracy: 0.6900\n",
            "Epoch 24/25\n",
            "50/50 [==============================] - 12s 234ms/step - loss: 0.5406 - accuracy: 0.7131\n",
            "Epoch 25/25\n",
            "50/50 [==============================] - 12s 230ms/step - loss: 0.5587 - accuracy: 0.7114\n"
          ],
          "name": "stdout"
        }
      ]
    }
  ]
}