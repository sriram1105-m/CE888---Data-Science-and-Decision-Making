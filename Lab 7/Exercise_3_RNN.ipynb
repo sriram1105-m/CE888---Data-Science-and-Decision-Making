{
  "nbformat": 4,
  "nbformat_minor": 0,
  "metadata": {
    "kernelspec": {
      "display_name": "Python 3",
      "language": "python",
      "name": "python3"
    },
    "language_info": {
      "codemirror_mode": {
        "name": "ipython",
        "version": 3
      },
      "file_extension": ".py",
      "mimetype": "text/x-python",
      "name": "python",
      "nbconvert_exporter": "python",
      "pygments_lexer": "ipython3",
      "version": "3.6.5"
    },
    "colab": {
      "name": "Exercise_3_RNN.ipynb",
      "provenance": [],
      "toc_visible": true,
      "include_colab_link": true
    }
  },
  "cells": [
    {
      "cell_type": "markdown",
      "metadata": {
        "id": "view-in-github",
        "colab_type": "text"
      },
      "source": [
        "<a href=\"https://colab.research.google.com/github/sriram1105-m/CE888---Data-Science-and-Decision-Making/blob/main/Lab%207/Exercise_3_RNN.ipynb\" target=\"_parent\"><img src=\"https://colab.research.google.com/assets/colab-badge.svg\" alt=\"Open In Colab\"/></a>"
      ]
    },
    {
      "cell_type": "code",
      "metadata": {
        "id": "2OEAdhW0qjg9",
        "colab": {
          "base_uri": "https://localhost:8080/",
          "height": 35
        },
        "outputId": "58ce7df0-adad-43d0-a98b-9b2fbf947f0c"
      },
      "source": [
        "import keras\n",
        "keras.__version__"
      ],
      "execution_count": 1,
      "outputs": [
        {
          "output_type": "execute_result",
          "data": {
            "application/vnd.google.colaboratory.intrinsic+json": {
              "type": "string"
            },
            "text/plain": [
              "'2.4.3'"
            ]
          },
          "metadata": {
            "tags": []
          },
          "execution_count": 1
        }
      ]
    },
    {
      "cell_type": "code",
      "metadata": {
        "id": "TYsNtFxgqjhC",
        "colab": {
          "base_uri": "https://localhost:8080/"
        },
        "outputId": "2dc28ebc-6d4e-40e0-812c-8b61b7065c56"
      },
      "source": [
        "from keras.preprocessing.text import Tokenizer\n",
        "samples = ['The cat sat on the mat.', 'The dog ate my homework.']\n",
        "\n",
        "# We create a tokenizer, configured to only take into account the top-1000 most common words\n",
        "tokenizer = Tokenizer(num_words=1000)\n",
        "\n",
        "# This builds the word index\n",
        "tokenizer.fit_on_texts(samples)\n",
        "\n",
        "# This turns strings into lists of integer indices.\n",
        "sequences = tokenizer.texts_to_sequences(samples)\n",
        "\n",
        "# You could also directly get the one-hot binary representations.\n",
        "# Note that other vectorization modes than one-hot encoding are supported!\n",
        "one_hot_results = tokenizer.texts_to_matrix(samples, mode='binary')\n",
        "\n",
        "# This is how you can recover the word index that was computed\n",
        "word_index = tokenizer.word_index\n",
        "print('Found %s unique tokens.' % len(word_index))"
      ],
      "execution_count": 2,
      "outputs": [
        {
          "output_type": "stream",
          "text": [
            "Found 9 unique tokens.\n"
          ],
          "name": "stdout"
        }
      ]
    },
    {
      "cell_type": "code",
      "metadata": {
        "id": "_1bFuvqKqjhF",
        "colab": {
          "base_uri": "https://localhost:8080/"
        },
        "outputId": "733a1cee-6b2e-4787-cdda-da88a9331934"
      },
      "source": [
        "one_hot_results"
      ],
      "execution_count": 3,
      "outputs": [
        {
          "output_type": "execute_result",
          "data": {
            "text/plain": [
              "array([[0., 1., 1., ..., 0., 0., 0.],\n",
              "       [0., 1., 0., ..., 0., 0., 0.]])"
            ]
          },
          "metadata": {
            "tags": []
          },
          "execution_count": 3
        }
      ]
    },
    {
      "cell_type": "markdown",
      "metadata": {
        "id": "95o1mdJkqjhI"
      },
      "source": [
        "Using word-embeddings "
      ]
    },
    {
      "cell_type": "code",
      "metadata": {
        "id": "DSAIqfdoqjhJ",
        "colab": {
          "base_uri": "https://localhost:8080/"
        },
        "outputId": "ee37fe21-531e-44c7-9317-dcd2f1fd1b2c"
      },
      "source": [
        "from keras.datasets import imdb\n",
        "from keras.preprocessing import sequence\n",
        "\n",
        "max_features = 10000\n",
        "maxlen = 500\n",
        "batch_size = 32\n",
        "print('Loading data...')\n",
        "(input_train, y_train), (input_test, y_test) = imdb.load_data(num_words=max_features)\n",
        "print(len(input_train), 'train sequences')\n",
        "print(len(input_test), 'test sequences')\n",
        "print('Pad sequences (samples x time)')\n",
        "input_train = sequence.pad_sequences(input_train, maxlen=maxlen)\n",
        "input_test = sequence.pad_sequences(input_test, maxlen=maxlen)\n",
        "print('input_train shape:', input_train.shape)\n",
        "print('input_test shape:', input_test.shape)"
      ],
      "execution_count": 4,
      "outputs": [
        {
          "output_type": "stream",
          "text": [
            "Loading data...\n",
            "Downloading data from https://storage.googleapis.com/tensorflow/tf-keras-datasets/imdb.npz\n",
            "17465344/17464789 [==============================] - 0s 0us/step\n"
          ],
          "name": "stdout"
        },
        {
          "output_type": "stream",
          "text": [
            "<string>:6: VisibleDeprecationWarning: Creating an ndarray from ragged nested sequences (which is a list-or-tuple of lists-or-tuples-or ndarrays with different lengths or shapes) is deprecated. If you meant to do this, you must specify 'dtype=object' when creating the ndarray\n",
            "/usr/local/lib/python3.7/dist-packages/tensorflow/python/keras/datasets/imdb.py:159: VisibleDeprecationWarning: Creating an ndarray from ragged nested sequences (which is a list-or-tuple of lists-or-tuples-or ndarrays with different lengths or shapes) is deprecated. If you meant to do this, you must specify 'dtype=object' when creating the ndarray\n",
            "  x_train, y_train = np.array(xs[:idx]), np.array(labels[:idx])\n",
            "/usr/local/lib/python3.7/dist-packages/tensorflow/python/keras/datasets/imdb.py:160: VisibleDeprecationWarning: Creating an ndarray from ragged nested sequences (which is a list-or-tuple of lists-or-tuples-or ndarrays with different lengths or shapes) is deprecated. If you meant to do this, you must specify 'dtype=object' when creating the ndarray\n",
            "  x_test, y_test = np.array(xs[idx:]), np.array(labels[idx:])\n"
          ],
          "name": "stderr"
        },
        {
          "output_type": "stream",
          "text": [
            "25000 train sequences\n",
            "25000 test sequences\n",
            "Pad sequences (samples x time)\n",
            "input_train shape: (25000, 500)\n",
            "input_test shape: (25000, 500)\n"
          ],
          "name": "stdout"
        }
      ]
    },
    {
      "cell_type": "markdown",
      "metadata": {
        "id": "5ssh97qDqjhM"
      },
      "source": [
        "### Training the model with Embedding and SimpleRNN layers"
      ]
    },
    {
      "cell_type": "code",
      "metadata": {
        "id": "t_lIlBilqjhN",
        "colab": {
          "base_uri": "https://localhost:8080/"
        },
        "outputId": "5491c66c-d920-427c-f07e-82ea954eeb60"
      },
      "source": [
        "from keras.layers import Dense\n",
        "from keras.layers import Embedding, SimpleRNN\n",
        "from keras.models import Sequential\n",
        "\n",
        "model = Sequential()\n",
        "model.add(Embedding(max_features, 32))\n",
        "model.add(SimpleRNN(32))\n",
        "model.add(Dense(1, activation='sigmoid'))\n",
        "model.summary()\n",
        "model.compile(optimizer='rmsprop', loss='binary_crossentropy', metrics=['acc'])\n",
        "history = model.fit(input_train, y_train, \n",
        "                    epochs=10,\n",
        "                    batch_size=128,\n",
        "                    validation_split=0.2)\n"
      ],
      "execution_count": 7,
      "outputs": [
        {
          "output_type": "stream",
          "text": [
            "Model: \"sequential\"\n",
            "_________________________________________________________________\n",
            "Layer (type)                 Output Shape              Param #   \n",
            "=================================================================\n",
            "embedding (Embedding)        (None, None, 32)          320000    \n",
            "_________________________________________________________________\n",
            "simple_rnn (SimpleRNN)       (None, 32)                2080      \n",
            "_________________________________________________________________\n",
            "dense (Dense)                (None, 1)                 33        \n",
            "=================================================================\n",
            "Total params: 322,113\n",
            "Trainable params: 322,113\n",
            "Non-trainable params: 0\n",
            "_________________________________________________________________\n",
            "Epoch 1/10\n",
            "157/157 [==============================] - 27s 164ms/step - loss: 0.6835 - acc: 0.5399 - val_loss: 0.4729 - val_acc: 0.7958\n",
            "Epoch 2/10\n",
            "157/157 [==============================] - 25s 161ms/step - loss: 0.4426 - acc: 0.8063 - val_loss: 0.4737 - val_acc: 0.7894\n",
            "Epoch 3/10\n",
            "157/157 [==============================] - 26s 163ms/step - loss: 0.3039 - acc: 0.8788 - val_loss: 0.9408 - val_acc: 0.6704\n",
            "Epoch 4/10\n",
            "157/157 [==============================] - 25s 162ms/step - loss: 0.2614 - acc: 0.9010 - val_loss: 0.6226 - val_acc: 0.7852\n",
            "Epoch 5/10\n",
            "157/157 [==============================] - 25s 159ms/step - loss: 0.1881 - acc: 0.9331 - val_loss: 0.3813 - val_acc: 0.8560\n",
            "Epoch 6/10\n",
            "157/157 [==============================] - 24s 155ms/step - loss: 0.1237 - acc: 0.9567 - val_loss: 0.4355 - val_acc: 0.8442\n",
            "Epoch 7/10\n",
            "157/157 [==============================] - 25s 156ms/step - loss: 0.0839 - acc: 0.9723 - val_loss: 0.5420 - val_acc: 0.7996\n",
            "Epoch 8/10\n",
            "157/157 [==============================] - 24s 155ms/step - loss: 0.0551 - acc: 0.9828 - val_loss: 0.5291 - val_acc: 0.8170\n",
            "Epoch 9/10\n",
            "157/157 [==============================] - 24s 155ms/step - loss: 0.0302 - acc: 0.9917 - val_loss: 0.7180 - val_acc: 0.7682\n",
            "Epoch 10/10\n",
            "157/157 [==============================] - 24s 151ms/step - loss: 0.0202 - acc: 0.9943 - val_loss: 0.6687 - val_acc: 0.8092\n"
          ],
          "name": "stdout"
        }
      ]
    },
    {
      "cell_type": "code",
      "metadata": {
        "id": "w03gEZ2RqjhQ",
        "colab": {
          "base_uri": "https://localhost:8080/",
          "height": 545
        },
        "outputId": "f846a440-f2a6-47be-d6f0-ba290ed2199e"
      },
      "source": [
        "import matplotlib.pyplot as plt\n",
        "\n",
        "acc = history.history['acc']\n",
        "val_acc = history.history['val_acc']\n",
        "loss = history.history['loss']\n",
        "val_loss = history.history['val_loss']\n",
        "\n",
        "epochs = range(1, len(acc) + 1)\n",
        "\n",
        "plt.plot(epochs, acc, 'bo', label='Training acc')\n",
        "plt.plot(epochs, val_acc, 'b', label='Validation acc')\n",
        "plt.title('Training and validation accuracy')\n",
        "plt.legend()\n",
        "\n",
        "plt.figure()\n",
        "\n",
        "plt.plot(epochs, loss, 'bo', label='Training loss')\n",
        "plt.plot(epochs, val_loss, 'b', label='Validation loss')\n",
        "plt.title('Training and validation loss')\n",
        "plt.legend()\n",
        "\n",
        "plt.show()"
      ],
      "execution_count": 8,
      "outputs": [
        {
          "output_type": "display_data",
          "data": {
            "image/png": "[encoded data removed]",
            "text/plain": [
              "<Figure size 432x288 with 1 Axes>"
            ]
          },
          "metadata": {
            "tags": [],
            "needs_background": "light"
          }
        },
        {
          "output_type": "display_data",
          "data": {
            "image/png": "[encoded data removed]",
            "text/plain": [
              "<Figure size 432x288 with 1 Axes>"
            ]
          },
          "metadata": {
            "tags": [],
            "needs_background": "light"
          }
        }
      ]
    },
    {
      "cell_type": "markdown",
      "metadata": {
        "id": "mz8CfgKcqjhT"
      },
      "source": [
        "### Training the model with Embedding and SimpleRNN layers"
      ]
    },
    {
      "cell_type": "code",
      "metadata": {
        "id": "U_wjH-KGqjhU",
        "colab": {
          "base_uri": "https://localhost:8080/"
        },
        "outputId": "1cf6cc4c-046b-4cf9-e57b-a42f7ce55106"
      },
      "source": [
        "from keras.layers import LSTM\n",
        "\n",
        "model = Sequential()\n",
        "model.add(Embedding(max_features, 32))\n",
        "model.add(LSTM(32))\n",
        "model.add(Dense(1, activation='sigmoid'))\n",
        "model.compile(optimizer='rmsprop',\n",
        "loss='binary_crossentropy',\n",
        "metrics=['acc'])\n",
        "history = model.fit(input_train, y_train,\n",
        "                    epochs=10,\n",
        "                    batch_size=128,\n",
        "                    validation_split=0.2)"
      ],
      "execution_count": 9,
      "outputs": [
        {
          "output_type": "stream",
          "text": [
            "Epoch 1/10\n",
            "157/157 [==============================] - 55s 341ms/step - loss: 0.6009 - acc: 0.6676 - val_loss: 0.3557 - val_acc: 0.8544\n",
            "Epoch 2/10\n",
            "157/157 [==============================] - 57s 363ms/step - loss: 0.3077 - acc: 0.8780 - val_loss: 0.4166 - val_acc: 0.8020\n",
            "Epoch 3/10\n",
            "157/157 [==============================] - 57s 363ms/step - loss: 0.2385 - acc: 0.9085 - val_loss: 0.3503 - val_acc: 0.8672\n",
            "Epoch 4/10\n",
            "157/157 [==============================] - 62s 395ms/step - loss: 0.1980 - acc: 0.9278 - val_loss: 0.3243 - val_acc: 0.8596\n",
            "Epoch 5/10\n",
            "157/157 [==============================] - 62s 393ms/step - loss: 0.1647 - acc: 0.9393 - val_loss: 0.3965 - val_acc: 0.8276\n",
            "Epoch 6/10\n",
            "157/157 [==============================] - 62s 393ms/step - loss: 0.1396 - acc: 0.9525 - val_loss: 0.3900 - val_acc: 0.8828\n",
            "Epoch 7/10\n",
            "157/157 [==============================] - 62s 395ms/step - loss: 0.1288 - acc: 0.9569 - val_loss: 0.3151 - val_acc: 0.8748\n",
            "Epoch 8/10\n",
            "157/157 [==============================] - 62s 395ms/step - loss: 0.1143 - acc: 0.9604 - val_loss: 0.3184 - val_acc: 0.8774\n",
            "Epoch 9/10\n",
            "157/157 [==============================] - 62s 393ms/step - loss: 0.1030 - acc: 0.9656 - val_loss: 0.3605 - val_acc: 0.8620\n",
            "Epoch 10/10\n",
            "157/157 [==============================] - 62s 393ms/step - loss: 0.0886 - acc: 0.9713 - val_loss: 0.5399 - val_acc: 0.8304\n"
          ],
          "name": "stdout"
        }
      ]
    },
    {
      "cell_type": "code",
      "metadata": {
        "id": "HU4eGq-DqjhX",
        "colab": {
          "base_uri": "https://localhost:8080/",
          "height": 545
        },
        "outputId": "8089c7c0-96a5-4cf0-bec2-fc2634b41dc4"
      },
      "source": [
        "import matplotlib.pyplot as plt\n",
        "\n",
        "acc = history.history['acc']\n",
        "val_acc = history.history['val_acc']\n",
        "loss = history.history['loss']\n",
        "val_loss = history.history['val_loss']\n",
        "\n",
        "epochs = range(1, len(acc) + 1)\n",
        "\n",
        "plt.plot(epochs, acc, 'bo', label='Training acc')\n",
        "plt.plot(epochs, val_acc, 'b', label='Validation acc')\n",
        "plt.title('Training and validation accuracy')\n",
        "plt.legend()\n",
        "\n",
        "plt.figure()\n",
        "\n",
        "plt.plot(epochs, loss, 'bo', label='Training loss')\n",
        "plt.plot(epochs, val_loss, 'b', label='Validation loss')\n",
        "plt.title('Training and validation loss')\n",
        "plt.legend()\n",
        "\n",
        "plt.show()"
      ],
      "execution_count": 10,
      "outputs": [
        {
          "output_type": "display_data",
          "data": {
            "image/png": "[encoded data removed]",
            "text/plain": [
              "<Figure size 432x288 with 1 Axes>"
            ]
          },
          "metadata": {
            "tags": [],
            "needs_background": "light"
          }
        },
        {
          "output_type": "display_data",
          "data": {
            "image/png": "[encoded data removed]",
            "text/plain": [
              "<Figure size 432x288 with 1 Axes>"
            ]
          },
          "metadata": {
            "tags": [],
            "needs_background": "light"
          }
        }
      ]
    },
    {
      "cell_type": "markdown",
      "metadata": {
        "id": "r69U5tFUZ82R"
      },
      "source": [
        "### Task 3: \n",
        "\n",
        "Please consider this Time Series Prediction with LSTM Recurrent Neural Networks. We can see that the LSTM model in the code below has an average error of about 23 passengers (in thousands) on the training dataset, and about 53 passengers (in thousands) on the test dataset. Not that bad. Can you please improve the performance?\n",
        "\n",
        "#### Dataset Discription\n",
        "The problem we are going to look at in this post is the International Airline Passengers prediction problem.\n",
        "This is a problem where, given a year and a month, the task is to predict the number of international airline passengers in units of 1,000. The data ranges from January 1949 to December 1960, or 12 years, with 144 observations.\n",
        "\n"
      ]
    },
    {
      "cell_type": "code",
      "metadata": {
        "colab": {
          "base_uri": "https://localhost:8080/",
          "height": 634
        },
        "id": "w1vSusoyatCW",
        "outputId": "a3adae6a-032a-41b5-8c67-4d8839253e50"
      },
      "source": [
        "import numpy\n",
        "import math\n",
        "import matplotlib.pyplot as plt\n",
        "from pandas import read_csv\n",
        "from keras.models import Sequential\n",
        "from keras.layers import Dense\n",
        "from keras.layers import LSTM\n",
        "from sklearn.preprocessing import MinMaxScaler\n",
        "from sklearn.metrics import mean_squared_error\n",
        "# convert an array of values into a dataset matrix\n",
        "def create_dataset(dataset, look_back=1):\n",
        "\tdataX, dataY = [], []\n",
        "\tfor i in range(len(dataset)-look_back-1):\n",
        "\t\ta = dataset[i:(i+look_back), 0]\n",
        "\t\tdataX.append(a)\n",
        "\t\tdataY.append(dataset[i + look_back, 0])\n",
        "\treturn numpy.array(dataX), numpy.array(dataY)\n",
        "# fix random seed for reproducibility\n",
        "numpy.random.seed(7)\n",
        "# load the dataset\n",
        "dataframe = read_csv('https://raw.githubusercontent.com/jbrownlee/Datasets/master/airline-passengers.csv', usecols=[1], engine='python')\n",
        "dataset = dataframe.values\n",
        "dataset = dataset.astype('float32')\n",
        "# normalize the dataset\n",
        "scaler = MinMaxScaler(feature_range=(0, 1))\n",
        "dataset = scaler.fit_transform(dataset)\n",
        "# split into train and test sets\n",
        "train_size = int(len(dataset) * 0.67)\n",
        "test_size = len(dataset) - train_size\n",
        "train, test = dataset[0:train_size,:], dataset[train_size:len(dataset),:]\n",
        "# reshape into X=t and Y=t+1\n",
        "look_back = 1\n",
        "trainX, trainY = create_dataset(train, look_back)\n",
        "testX, testY = create_dataset(test, look_back)\n",
        "# reshape input to be [samples, time steps, features]\n",
        "trainX = numpy.reshape(trainX, (trainX.shape[0], 1, trainX.shape[1]))\n",
        "testX = numpy.reshape(testX, (testX.shape[0], 1, testX.shape[1]))\n",
        "\n",
        "\n",
        "# create and fit the LSTM network\n",
        "model = Sequential()\n",
        "model.add(Embedding(max_features, 32))\n",
        "model.add(LSTM(32))\n",
        "model.add(Dense(1, activation='sigmoid'))\n",
        "model.compile(optimizer='rmsprop',\n",
        "loss='binary_crossentropy',\n",
        "metrics=['acc'])\n",
        "history = model.fit(input_train, y_train,\n",
        "                    epochs=10,\n",
        "                    batch_size=128,\n",
        "                    validation_split=0.2)\n",
        "\n",
        "\n",
        "# make predictions\n",
        "trainPredict = model.predict(trainX)\n",
        "testPredict = model.predict(testX)\n",
        "# invert predictions\n",
        "trainPredict = scaler.inverse_transform(trainPredict)\n",
        "trainY = scaler.inverse_transform([trainY])\n",
        "testPredict = scaler.inverse_transform(testPredict)\n",
        "testY = scaler.inverse_transform([testY])\n",
        "# calculate root mean squared error\n",
        "trainScore = math.sqrt(mean_squared_error(trainY[0], trainPredict[:,0]))\n",
        "print('Train Score: %.2f RMSE' % (trainScore))\n",
        "testScore = math.sqrt(mean_squared_error(testY[0], testPredict[:,0]))\n",
        "print('Test Score: %.2f RMSE' % (testScore))\n",
        "# shift train predictions for plotting\n",
        "trainPredictPlot = numpy.empty_like(dataset)\n",
        "trainPredictPlot[:, :] = numpy.nan\n",
        "trainPredictPlot[look_back:len(trainPredict)+look_back, :] = trainPredict\n",
        "# shift test predictions for plotting\n",
        "testPredictPlot = numpy.empty_like(dataset)\n",
        "testPredictPlot[:, :] = numpy.nan\n",
        "testPredictPlot[len(trainPredict)+(look_back*2)+1:len(dataset)-1, :] = testPredict\n",
        "# plot baseline and predictions\n",
        "plt.plot(scaler.inverse_transform(dataset))\n",
        "plt.plot(trainPredictPlot)\n",
        "plt.plot(testPredictPlot)\n",
        "plt.show()"
      ],
      "execution_count": 11,
      "outputs": [
        {
          "output_type": "stream",
          "text": [
            "Epoch 1/10\n",
            "157/157 [==============================] - 55s 339ms/step - loss: 0.6462 - acc: 0.6445 - val_loss: 0.4072 - val_acc: 0.8350\n",
            "Epoch 2/10\n",
            "157/157 [==============================] - 57s 361ms/step - loss: 0.3710 - acc: 0.8516 - val_loss: 0.2998 - val_acc: 0.8812\n",
            "Epoch 3/10\n",
            "157/157 [==============================] - 56s 359ms/step - loss: 0.2572 - acc: 0.9016 - val_loss: 0.2772 - val_acc: 0.8862\n",
            "Epoch 4/10\n",
            "157/157 [==============================] - 57s 361ms/step - loss: 0.2102 - acc: 0.9216 - val_loss: 0.3119 - val_acc: 0.8658\n",
            "Epoch 5/10\n",
            "157/157 [==============================] - 57s 361ms/step - loss: 0.1781 - acc: 0.9353 - val_loss: 0.3275 - val_acc: 0.8878\n",
            "Epoch 6/10\n",
            "157/157 [==============================] - 59s 376ms/step - loss: 0.1598 - acc: 0.9417 - val_loss: 0.4055 - val_acc: 0.8462\n",
            "Epoch 7/10\n",
            "157/157 [==============================] - 59s 377ms/step - loss: 0.1419 - acc: 0.9506 - val_loss: 0.4635 - val_acc: 0.8382\n",
            "Epoch 8/10\n",
            "157/157 [==============================] - 60s 379ms/step - loss: 0.1357 - acc: 0.9540 - val_loss: 0.5373 - val_acc: 0.8654\n",
            "Epoch 9/10\n",
            "157/157 [==============================] - 60s 380ms/step - loss: 0.1219 - acc: 0.9588 - val_loss: 0.3559 - val_acc: 0.8848\n",
            "Epoch 10/10\n",
            "157/157 [==============================] - 59s 379ms/step - loss: 0.1015 - acc: 0.9655 - val_loss: 0.3610 - val_acc: 0.8610\n",
            "Train Score: 191.50 RMSE\n",
            "Test Score: 85.61 RMSE\n"
          ],
          "name": "stdout"
        },
        {
          "output_type": "display_data",
          "data": {
            "image/png": "[encoded data removed]",
            "text/plain": [
              "<Figure size 432x288 with 1 Axes>"
            ]
          },
          "metadata": {
            "tags": [],
            "needs_background": "light"
          }
        }
      ]
    },
    {
      "cell_type": "markdown",
      "metadata": {
        "id": "ZSz24HhlbUPF"
      },
      "source": [
        ""
      ]
    },
    {
      "cell_type": "code",
      "metadata": {
        "id": "Wo1lWGBOchQM"
      },
      "source": [
        "# Changes Made\n",
        "# 1) Changed the look_back to 10 \n",
        "# 2) Changed the structure of the LSTM in the modelling part"
      ],
      "execution_count": null,
      "outputs": []
    },
    {
      "cell_type": "code",
      "metadata": {
        "colab": {
          "base_uri": "https://localhost:8080/",
          "height": 1000
        },
        "id": "faMY3JJfchvg",
        "outputId": "4e13f9a9-0b73-41d6-e6c0-61b5a4282ce5"
      },
      "source": [
        "import numpy\n",
        "import math\n",
        "import matplotlib.pyplot as plt\n",
        "from pandas import read_csv\n",
        "from keras.models import Sequential\n",
        "from keras.layers import Dense\n",
        "from keras.layers import LSTM\n",
        "from sklearn.preprocessing import MinMaxScaler\n",
        "from sklearn.metrics import mean_squared_error\n",
        "# convert an array of values into a dataset matrix\n",
        "def create_dataset(dataset, look_back=1):\n",
        "\tdataX, dataY = [], []\n",
        "\tfor i in range(len(dataset)-look_back-1):\n",
        "\t\ta = dataset[i:(i+look_back), 0]\n",
        "\t\tdataX.append(a)\n",
        "\t\tdataY.append(dataset[i + look_back, 0])\n",
        "\treturn numpy.array(dataX), numpy.array(dataY)\n",
        "# fix random seed for reproducibility\n",
        "numpy.random.seed(7)\n",
        "# load the dataset\n",
        "dataframe = read_csv('https://raw.githubusercontent.com/jbrownlee/Datasets/master/airline-passengers.csv', usecols=[1], engine='python')\n",
        "dataset = dataframe.values\n",
        "dataset = dataset.astype('float32')\n",
        "# normalize the dataset\n",
        "scaler = MinMaxScaler(feature_range=(0, 1))\n",
        "dataset = scaler.fit_transform(dataset)\n",
        "# split into train and test sets\n",
        "train_size = int(len(dataset) * 0.67)\n",
        "test_size = len(dataset) - train_size\n",
        "train, test = dataset[0:train_size,:], dataset[train_size:len(dataset),:]\n",
        "# reshape into X=t and Y=t+1\n",
        "look_back = 10\n",
        "trainX, trainY = create_dataset(train, look_back)\n",
        "testX, testY = create_dataset(test, look_back)\n",
        "# reshape input to be [samples, time steps, features]\n",
        "trainX = numpy.reshape(trainX, (trainX.shape[0], 1, trainX.shape[1]))\n",
        "testX = numpy.reshape(testX, (testX.shape[0], 1, testX.shape[1]))\n",
        "\n",
        "\n",
        "# create and fit the LSTM network\n",
        "model = Sequential()\n",
        "model.add(LSTM(10, input_shape=(1, look_back))) # 10 lstm neuron(block)\n",
        "model.add(Dense(1))\n",
        "model.compile(loss='mean_squared_error', optimizer='adam',metrics=['accuracy'])\n",
        "model.fit(trainX, trainY, epochs=50, batch_size=1)\n",
        "\n",
        "# make predictions\n",
        "trainPredict = model.predict(trainX)\n",
        "testPredict = model.predict(testX)\n",
        "# invert predictions\n",
        "trainPredict = scaler.inverse_transform(trainPredict)\n",
        "trainY = scaler.inverse_transform([trainY])\n",
        "testPredict = scaler.inverse_transform(testPredict)\n",
        "testY = scaler.inverse_transform([testY])\n",
        "# calculate root mean squared error\n",
        "trainScore = math.sqrt(mean_squared_error(trainY[0], trainPredict[:,0]))\n",
        "print('Train Score: %.2f RMSE' % (trainScore))\n",
        "testScore = math.sqrt(mean_squared_error(testY[0], testPredict[:,0]))\n",
        "print('Test Score: %.2f RMSE' % (testScore))\n",
        "# shift train predictions for plotting\n",
        "trainPredictPlot = numpy.empty_like(dataset)\n",
        "trainPredictPlot[:, :] = numpy.nan\n",
        "trainPredictPlot[look_back:len(trainPredict)+look_back, :] = trainPredict\n",
        "# shift test predictions for plotting\n",
        "testPredictPlot = numpy.empty_like(dataset)\n",
        "testPredictPlot[:, :] = numpy.nan\n",
        "testPredictPlot[len(trainPredict)+(look_back*2)+1:len(dataset)-1, :] = testPredict\n",
        "# plot baseline and predictions\n",
        "plt.plot(scaler.inverse_transform(dataset))\n",
        "plt.plot(trainPredictPlot)\n",
        "plt.plot(testPredictPlot)\n",
        "plt.show()"
      ],
      "execution_count": 13,
      "outputs": [
        {
          "output_type": "stream",
          "text": [
            "Epoch 1/50\n",
            "85/85 [==============================] - 2s 2ms/step - loss: 0.0580 - accuracy: 9.8283e-04\n",
            "Epoch 2/50\n",
            "85/85 [==============================] - 0s 2ms/step - loss: 0.0080 - accuracy: 0.0019\n",
            "Epoch 3/50\n",
            "85/85 [==============================] - 0s 2ms/step - loss: 0.0051 - accuracy: 0.0091\n",
            "Epoch 4/50\n",
            "85/85 [==============================] - 0s 2ms/step - loss: 0.0035 - accuracy: 0.0373\n",
            "Epoch 5/50\n",
            "85/85 [==============================] - 0s 2ms/step - loss: 0.0036 - accuracy: 0.0070\n",
            "Epoch 6/50\n",
            "85/85 [==============================] - 0s 2ms/step - loss: 0.0029 - accuracy: 0.0142\n",
            "Epoch 7/50\n",
            "85/85 [==============================] - 0s 1ms/step - loss: 0.0023 - accuracy: 0.0032\n",
            "Epoch 8/50\n",
            "85/85 [==============================] - 0s 2ms/step - loss: 0.0023 - accuracy: 0.0186\n",
            "Epoch 9/50\n",
            "85/85 [==============================] - 0s 2ms/step - loss: 0.0017 - accuracy: 0.0077\n",
            "Epoch 10/50\n",
            "85/85 [==============================] - 0s 2ms/step - loss: 0.0023 - accuracy: 0.0110\n",
            "Epoch 11/50\n",
            "85/85 [==============================] - 0s 2ms/step - loss: 0.0021 - accuracy: 4.1203e-04\n",
            "Epoch 12/50\n",
            "85/85 [==============================] - 0s 1ms/step - loss: 0.0023 - accuracy: 0.0110\n",
            "Epoch 13/50\n",
            "85/85 [==============================] - 0s 2ms/step - loss: 0.0018 - accuracy: 0.0157\n",
            "Epoch 14/50\n",
            "85/85 [==============================] - 0s 2ms/step - loss: 0.0015 - accuracy: 0.0036\n",
            "Epoch 15/50\n",
            "85/85 [==============================] - 0s 2ms/step - loss: 0.0015 - accuracy: 0.0040\n",
            "Epoch 16/50\n",
            "85/85 [==============================] - 0s 2ms/step - loss: 0.0019 - accuracy: 0.0245\n",
            "Epoch 17/50\n",
            "85/85 [==============================] - 0s 2ms/step - loss: 0.0021 - accuracy: 2.7360e-04\n",
            "Epoch 18/50\n",
            "85/85 [==============================] - 0s 1ms/step - loss: 0.0020 - accuracy: 0.0235\n",
            "Epoch 19/50\n",
            "85/85 [==============================] - 0s 2ms/step - loss: 0.0023 - accuracy: 0.0104\n",
            "Epoch 20/50\n",
            "85/85 [==============================] - 0s 2ms/step - loss: 0.0018 - accuracy: 0.0586\n",
            "Epoch 21/50\n",
            "85/85 [==============================] - 0s 1ms/step - loss: 0.0016 - accuracy: 0.0225\n",
            "Epoch 22/50\n",
            "85/85 [==============================] - 0s 2ms/step - loss: 0.0015 - accuracy: 0.0029\n",
            "Epoch 23/50\n",
            "85/85 [==============================] - 0s 1ms/step - loss: 0.0015 - accuracy: 0.0019\n",
            "Epoch 24/50\n",
            "85/85 [==============================] - 0s 1ms/step - loss: 0.0019 - accuracy: 0.0025\n",
            "Epoch 25/50\n",
            "85/85 [==============================] - 0s 2ms/step - loss: 0.0014 - accuracy: 0.0032\n",
            "Epoch 26/50\n",
            "85/85 [==============================] - 0s 2ms/step - loss: 0.0014 - accuracy: 0.0011\n",
            "Epoch 27/50\n",
            "85/85 [==============================] - 0s 1ms/step - loss: 0.0015 - accuracy: 0.0094\n",
            "Epoch 28/50\n",
            "85/85 [==============================] - 0s 2ms/step - loss: 0.0014 - accuracy: 0.0469\n",
            "Epoch 29/50\n",
            "85/85 [==============================] - 0s 1ms/step - loss: 0.0013 - accuracy: 0.0245\n",
            "Epoch 30/50\n",
            "85/85 [==============================] - 0s 2ms/step - loss: 0.0017 - accuracy: 0.0036\n",
            "Epoch 31/50\n",
            "85/85 [==============================] - 0s 2ms/step - loss: 0.0015 - accuracy: 0.0157\n",
            "Epoch 32/50\n",
            "85/85 [==============================] - 0s 2ms/step - loss: 0.0015 - accuracy: 0.0054\n",
            "Epoch 33/50\n",
            "85/85 [==============================] - 0s 2ms/step - loss: 0.0018 - accuracy: 0.0016\n",
            "Epoch 34/50\n",
            "85/85 [==============================] - 0s 2ms/step - loss: 0.0016 - accuracy: 0.0107\n",
            "Epoch 35/50\n",
            "85/85 [==============================] - 0s 1ms/step - loss: 0.0013 - accuracy: 0.0044\n",
            "Epoch 36/50\n",
            "85/85 [==============================] - 0s 2ms/step - loss: 0.0012 - accuracy: 0.0047\n",
            "Epoch 37/50\n",
            "85/85 [==============================] - 0s 1ms/step - loss: 0.0014 - accuracy: 0.0080\n",
            "Epoch 38/50\n",
            "85/85 [==============================] - 0s 1ms/step - loss: 0.0012 - accuracy: 0.0173\n",
            "Epoch 39/50\n",
            "85/85 [==============================] - 0s 2ms/step - loss: 0.0013 - accuracy: 0.0067\n",
            "Epoch 40/50\n",
            "85/85 [==============================] - 0s 2ms/step - loss: 0.0019 - accuracy: 0.0027\n",
            "Epoch 41/50\n",
            "85/85 [==============================] - 0s 2ms/step - loss: 0.0016 - accuracy: 0.0097\n",
            "Epoch 42/50\n",
            "85/85 [==============================] - 0s 1ms/step - loss: 0.0014 - accuracy: 0.0270\n",
            "Epoch 43/50\n",
            "85/85 [==============================] - 0s 2ms/step - loss: 0.0016 - accuracy: 0.0162\n",
            "Epoch 44/50\n",
            "85/85 [==============================] - 0s 1ms/step - loss: 0.0014 - accuracy: 0.0040\n",
            "Epoch 45/50\n",
            "85/85 [==============================] - 0s 2ms/step - loss: 0.0010 - accuracy: 0.0257\n",
            "Epoch 46/50\n",
            "85/85 [==============================] - 0s 2ms/step - loss: 0.0015 - accuracy: 0.0019\n",
            "Epoch 47/50\n",
            "85/85 [==============================] - 0s 2ms/step - loss: 0.0014 - accuracy: 0.0047\n",
            "Epoch 48/50\n",
            "85/85 [==============================] - 0s 2ms/step - loss: 0.0012 - accuracy: 0.0138\n",
            "Epoch 49/50\n",
            "85/85 [==============================] - 0s 1ms/step - loss: 0.0015 - accuracy: 0.0077\n",
            "Epoch 50/50\n",
            "85/85 [==============================] - 0s 2ms/step - loss: 0.0013 - accuracy: 0.0469\n",
            "Train Score: 19.41 RMSE\n",
            "Test Score: 45.76 RMSE\n"
          ],
          "name": "stdout"
        },
        {
          "output_type": "display_data",
          "data": {
            "image/png": "[encoded data removed]",
            "text/plain": [
              "<Figure size 432x288 with 1 Axes>"
            ]
          },
          "metadata": {
            "tags": [],
            "needs_background": "light"
          }
        }
      ]
    }
  ]
}