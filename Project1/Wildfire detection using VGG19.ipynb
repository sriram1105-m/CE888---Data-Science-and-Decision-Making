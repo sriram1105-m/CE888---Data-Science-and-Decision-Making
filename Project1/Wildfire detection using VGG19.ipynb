{
 "cells": [
  {
   "cell_type": "code",
   "execution_count": 1,
   "id": "e4a9d08d",
   "metadata": {},
   "outputs": [
    {
     "name": "stderr",
     "output_type": "stream",
     "text": [
      "Using TensorFlow backend.\n"
     ]
    }
   ],
   "source": [
    "# Importing all the required libraries\n",
    "import numpy as np\n",
    "import pandas as pd\n",
    "import matplotlib.pyplot as plt\n",
    "import seaborn as sns\n",
    "\n",
    "import random\n",
    "import os\n",
    "import cv2\n",
    "from random import randint\n",
    "from IPython.display import SVG\n",
    "import matplotlib.gridspec as gridspec\n",
    "import matplotlib.image as mpimg\n",
    "import PIL\n",
    "from PIL import Image\n",
    "\n",
    "import keras"
   ]
  },
  {
   "cell_type": "code",
   "execution_count": 2,
   "id": "a4709441",
   "metadata": {},
   "outputs": [],
   "source": [
    "# Importing the datasets\n",
    "\n",
    "train_dir = \"C:\\\\Users\\\\SRIRAM\\\\Desktop\\\\Training\"\n",
    "test_dir = \"C:\\\\Users\\\\SRIRAM\\\\Desktop\\\\Test\""
   ]
  },
  {
   "cell_type": "markdown",
   "id": "e1072908",
   "metadata": {},
   "source": [
    "# There are two classes present in the dataset. The exact counts of the data are shown using the command below."
   ]
  },
  {
   "cell_type": "code",
   "execution_count": 3,
   "id": "758c3d90",
   "metadata": {},
   "outputs": [
    {
     "name": "stdout",
     "output_type": "stream",
     "text": [
      "{'Fire': 25018, 'No_Fire': 14357}\n"
     ]
    }
   ],
   "source": [
    "# Getting the count of training images\n",
    "\n",
    "cat_counts = {}\n",
    "for cat in os.listdir(train_dir):\n",
    "    counts = len(os.listdir(os.path.join(train_dir, cat)))\n",
    "    cat_counts[cat] =counts\n",
    "print(cat_counts)"
   ]
  },
  {
   "cell_type": "code",
   "execution_count": 4,
   "id": "fc298a7e",
   "metadata": {},
   "outputs": [
    {
     "name": "stdout",
     "output_type": "stream",
     "text": [
      "{'Fire': 5137, 'No_Fire': 3480}\n"
     ]
    }
   ],
   "source": [
    "# Getting the count of test images\n",
    "\n",
    "cat_counts = {}\n",
    "for cat in os.listdir(test_dir):\n",
    "    counts = len(os.listdir(os.path.join(test_dir, cat)))\n",
    "    cat_counts[cat] =counts\n",
    "print(cat_counts)"
   ]
  },
  {
   "cell_type": "markdown",
   "id": "39dfc64e",
   "metadata": {},
   "source": [
    "# Data Pre-processing steps"
   ]
  },
  {
   "cell_type": "code",
   "execution_count": 5,
   "id": "540f438a",
   "metadata": {},
   "outputs": [
    {
     "name": "stdout",
     "output_type": "stream",
     "text": [
      "Found 39375 images belonging to 2 classes.\n",
      "Found 8617 images belonging to 2 classes.\n"
     ]
    }
   ],
   "source": [
    "# Data Preprocessing\n",
    "#Image Data Generator\n",
    "from keras.preprocessing.image import ImageDataGenerator\n",
    "\n",
    "train_datagen = ImageDataGenerator(rescale = 1./255,\n",
    "                                   shear_range = 0.2,   # Stretches and slant the image to a particular angle\n",
    "                                   rotation_range = 40, # randomly rotates the image so that the model become inavariant to object orientation\n",
    "                                   zoom_range = 0.2,    #randomly zoom-in or zoom-out the image\n",
    "                                   brightness_range = [0.8, 1.2], #range changes the brightness of the image\n",
    "                                   horizontal_flip = True,     #randomly flips the image horizontally\n",
    "                                   fill_mode = 'nearest',\n",
    "                                   width_shift_range = 0.2,\n",
    "                                   height_shift_range = 0.2\n",
    "                                   ) \n",
    "\n",
    "test_datagen = ImageDataGenerator(rescale = 1./255)\n",
    "\n",
    "training_set = train_datagen.flow_from_directory('C:\\\\Users\\\\SRIRAM\\\\Desktop\\\\Training',\n",
    "                                                  target_size = (224, 224),\n",
    "                                                  batch_size = 32,\n",
    "                                                  class_mode = 'binary', shuffle = True)\n",
    "\n",
    "test_set = test_datagen.flow_from_directory('C:\\\\Users\\\\SRIRAM\\\\Desktop\\\\Test',\n",
    "                                             target_size = (224, 224),\n",
    "                                             batch_size = 32,\n",
    "                                             class_mode = 'binary')"
   ]
  },
  {
   "cell_type": "code",
   "execution_count": 6,
   "id": "02f6f82b",
   "metadata": {},
   "outputs": [
    {
     "data": {
      "text/plain": [
       "{'Fire': 0, 'No_Fire': 1}"
      ]
     },
     "execution_count": 6,
     "metadata": {},
     "output_type": "execute_result"
    }
   ],
   "source": [
    "#Finding the class Index\n",
    "training_set.class_indices"
   ]
  },
  {
   "cell_type": "markdown",
   "id": "feac767b",
   "metadata": {},
   "source": [
    "# Class_weight method is used to balance the data. The dataset is slightly imbalanced. In order to balance the dataset, this method is being adopted."
   ]
  },
  {
   "cell_type": "code",
   "execution_count": 7,
   "id": "cb933fc5",
   "metadata": {},
   "outputs": [
    {
     "name": "stderr",
     "output_type": "stream",
     "text": [
      "C:\\Users\\SRIRAM\\anaconda3\\envs\\gputest\\lib\\site-packages\\sklearn\\utils\\validation.py:72: FutureWarning: Pass classes=[0 1], y=[0 0 0 ... 1 1 1] as keyword args. From version 1.0 (renaming of 0.25) passing these as positional arguments will result in an error\n",
      "  \"will result in an error\", FutureWarning)\n"
     ]
    }
   ],
   "source": [
    "# Utilizing Class_weight to balance the training data class labels\n",
    "\n",
    "from sklearn.utils import class_weight\n",
    "import numpy as np\n",
    "\n",
    "class_weights = class_weight.compute_class_weight(\n",
    "               'balanced',\n",
    "                np.unique(training_set.classes), \n",
    "                training_set.classes) \n",
    "\n",
    "class_weights = dict(enumerate(class_weights))"
   ]
  },
  {
   "cell_type": "code",
   "execution_count": 8,
   "id": "c545706d",
   "metadata": {},
   "outputs": [
    {
     "data": {
      "text/plain": [
       "{0: 0.7869334079462786, 1: 1.371282301316431}"
      ]
     },
     "execution_count": 8,
     "metadata": {},
     "output_type": "execute_result"
    }
   ],
   "source": [
    "# Printing the evaluated class_weights\n",
    "\n",
    "class_weights"
   ]
  },
  {
   "cell_type": "code",
   "execution_count": 9,
   "id": "03c01a9d",
   "metadata": {},
   "outputs": [],
   "source": [
    "#Importing required libraries\n",
    "from keras.layers import Dropout\n",
    "from keras import models, regularizers, layers, optimizers, losses, metrics\n",
    "\n",
    "from keras.layers import GlobalAveragePooling2D\n",
    "from keras.layers import GaussianNoise\n",
    "\n",
    "from keras.models import Sequential\n",
    "from keras.layers import Dense, Dropout, Conv2D, MaxPool2D, Flatten, BatchNormalization\n",
    "from keras.utils import np_utils"
   ]
  },
  {
   "cell_type": "markdown",
   "id": "f833d02d",
   "metadata": {},
   "source": [
    "# Downloading the VGG19 model for the model"
   ]
  },
  {
   "cell_type": "code",
   "execution_count": 10,
   "id": "b44f0582",
   "metadata": {},
   "outputs": [
    {
     "name": "stdout",
     "output_type": "stream",
     "text": [
      "Model: \"vgg19\"\n",
      "_________________________________________________________________\n",
      "Layer (type)                 Output Shape              Param #   \n",
      "=================================================================\n",
      "input_1 (InputLayer)         (None, 224, 224, 3)       0         \n",
      "_________________________________________________________________\n",
      "block1_conv1 (Conv2D)        (None, 224, 224, 64)      1792      \n",
      "_________________________________________________________________\n",
      "block1_conv2 (Conv2D)        (None, 224, 224, 64)      36928     \n",
      "_________________________________________________________________\n",
      "block1_pool (MaxPooling2D)   (None, 112, 112, 64)      0         \n",
      "_________________________________________________________________\n",
      "block2_conv1 (Conv2D)        (None, 112, 112, 128)     73856     \n",
      "_________________________________________________________________\n",
      "block2_conv2 (Conv2D)        (None, 112, 112, 128)     147584    \n",
      "_________________________________________________________________\n",
      "block2_pool (MaxPooling2D)   (None, 56, 56, 128)       0         \n",
      "_________________________________________________________________\n",
      "block3_conv1 (Conv2D)        (None, 56, 56, 256)       295168    \n",
      "_________________________________________________________________\n",
      "block3_conv2 (Conv2D)        (None, 56, 56, 256)       590080    \n",
      "_________________________________________________________________\n",
      "block3_conv3 (Conv2D)        (None, 56, 56, 256)       590080    \n",
      "_________________________________________________________________\n",
      "block3_conv4 (Conv2D)        (None, 56, 56, 256)       590080    \n",
      "_________________________________________________________________\n",
      "block3_pool (MaxPooling2D)   (None, 28, 28, 256)       0         \n",
      "_________________________________________________________________\n",
      "block4_conv1 (Conv2D)        (None, 28, 28, 512)       1180160   \n",
      "_________________________________________________________________\n",
      "block4_conv2 (Conv2D)        (None, 28, 28, 512)       2359808   \n",
      "_________________________________________________________________\n",
      "block4_conv3 (Conv2D)        (None, 28, 28, 512)       2359808   \n",
      "_________________________________________________________________\n",
      "block4_conv4 (Conv2D)        (None, 28, 28, 512)       2359808   \n",
      "_________________________________________________________________\n",
      "block4_pool (MaxPooling2D)   (None, 14, 14, 512)       0         \n",
      "_________________________________________________________________\n",
      "block5_conv1 (Conv2D)        (None, 14, 14, 512)       2359808   \n",
      "_________________________________________________________________\n",
      "block5_conv2 (Conv2D)        (None, 14, 14, 512)       2359808   \n",
      "_________________________________________________________________\n",
      "block5_conv3 (Conv2D)        (None, 14, 14, 512)       2359808   \n",
      "_________________________________________________________________\n",
      "block5_conv4 (Conv2D)        (None, 14, 14, 512)       2359808   \n",
      "_________________________________________________________________\n",
      "block5_pool (MaxPooling2D)   (None, 7, 7, 512)         0         \n",
      "=================================================================\n",
      "Total params: 20,024,384\n",
      "Trainable params: 20,024,384\n",
      "Non-trainable params: 0\n",
      "_________________________________________________________________\n",
      "None\n"
     ]
    }
   ],
   "source": [
    "# Importing the VGG19 required libraries\n",
    "\n",
    "from keras.applications.vgg19 import VGG19\n",
    "from keras.applications.vgg19 import preprocess_input\n",
    "\n",
    "vgg_base = VGG19(weights='imagenet',    \n",
    "                 include_top=False,     \n",
    "                 input_shape=(224, 224, 3))\n",
    "print(vgg_base.summary())"
   ]
  },
  {
   "cell_type": "markdown",
   "id": "b27ccc07",
   "metadata": {},
   "source": [
    "# Fine tuning involves in freezing some layers of the transfer learning method and adding our own set of layers for better results."
   ]
  },
  {
   "cell_type": "code",
   "execution_count": 11,
   "id": "a66b0335",
   "metadata": {},
   "outputs": [
    {
     "name": "stdout",
     "output_type": "stream",
     "text": [
      "Model: \"vgg19\"\n",
      "_________________________________________________________________\n",
      "Layer (type)                 Output Shape              Param #   \n",
      "=================================================================\n",
      "input_1 (InputLayer)         (None, 224, 224, 3)       0         \n",
      "_________________________________________________________________\n",
      "block1_conv1 (Conv2D)        (None, 224, 224, 64)      1792      \n",
      "_________________________________________________________________\n",
      "block1_conv2 (Conv2D)        (None, 224, 224, 64)      36928     \n",
      "_________________________________________________________________\n",
      "block1_pool (MaxPooling2D)   (None, 112, 112, 64)      0         \n",
      "_________________________________________________________________\n",
      "block2_conv1 (Conv2D)        (None, 112, 112, 128)     73856     \n",
      "_________________________________________________________________\n",
      "block2_conv2 (Conv2D)        (None, 112, 112, 128)     147584    \n",
      "_________________________________________________________________\n",
      "block2_pool (MaxPooling2D)   (None, 56, 56, 128)       0         \n",
      "_________________________________________________________________\n",
      "block3_conv1 (Conv2D)        (None, 56, 56, 256)       295168    \n",
      "_________________________________________________________________\n",
      "block3_conv2 (Conv2D)        (None, 56, 56, 256)       590080    \n",
      "_________________________________________________________________\n",
      "block3_conv3 (Conv2D)        (None, 56, 56, 256)       590080    \n",
      "_________________________________________________________________\n",
      "block3_conv4 (Conv2D)        (None, 56, 56, 256)       590080    \n",
      "_________________________________________________________________\n",
      "block3_pool (MaxPooling2D)   (None, 28, 28, 256)       0         \n",
      "_________________________________________________________________\n",
      "block4_conv1 (Conv2D)        (None, 28, 28, 512)       1180160   \n",
      "_________________________________________________________________\n",
      "block4_conv2 (Conv2D)        (None, 28, 28, 512)       2359808   \n",
      "_________________________________________________________________\n",
      "block4_conv3 (Conv2D)        (None, 28, 28, 512)       2359808   \n",
      "_________________________________________________________________\n",
      "block4_conv4 (Conv2D)        (None, 28, 28, 512)       2359808   \n",
      "_________________________________________________________________\n",
      "block4_pool (MaxPooling2D)   (None, 14, 14, 512)       0         \n",
      "_________________________________________________________________\n",
      "block5_conv1 (Conv2D)        (None, 14, 14, 512)       2359808   \n",
      "_________________________________________________________________\n",
      "block5_conv2 (Conv2D)        (None, 14, 14, 512)       2359808   \n",
      "_________________________________________________________________\n",
      "block5_conv3 (Conv2D)        (None, 14, 14, 512)       2359808   \n",
      "_________________________________________________________________\n",
      "block5_conv4 (Conv2D)        (None, 14, 14, 512)       2359808   \n",
      "_________________________________________________________________\n",
      "block5_pool (MaxPooling2D)   (None, 7, 7, 512)         0         \n",
      "=================================================================\n",
      "Total params: 20,024,384\n",
      "Trainable params: 7,079,424\n",
      "Non-trainable params: 12,944,960\n",
      "_________________________________________________________________\n",
      "None\n"
     ]
    }
   ],
   "source": [
    "# Fine tuning the model\n",
    "trainable = False\n",
    "\n",
    "for layer in vgg_base.layers:\n",
    "    if layer.name == 'block5_conv2':\n",
    "        trainable = True\n",
    "        \n",
    "    layer.trainable = trainable\n",
    "    \n",
    "print(vgg_base.summary())"
   ]
  },
  {
   "cell_type": "code",
   "execution_count": 12,
   "id": "6f103159",
   "metadata": {},
   "outputs": [],
   "source": [
    "# Builing the model\n",
    "\n",
    "def build_model():\n",
    "    from tensorflow.keras.optimizers import Adam, RMSprop\n",
    "           \n",
    "    model = keras.models.Sequential([vgg_base,\n",
    "                                     keras.layers.Flatten(),\n",
    "                                     keras.layers.Dropout(0.50),\n",
    "                                     keras.layers.Dense(1, activation='sigmoid')])\n",
    "    \n",
    "    \n",
    "    # Compiling the model\n",
    "\n",
    "    model.compile(optimizer=RMSprop(lr = 1e-4), \n",
    "                  loss='binary_crossentropy',\n",
    "                  metrics=['accuracy'])\n",
    "    return model"
   ]
  },
  {
   "cell_type": "code",
   "execution_count": 13,
   "id": "e9dd4cba",
   "metadata": {},
   "outputs": [
    {
     "name": "stdout",
     "output_type": "stream",
     "text": [
      "Model: \"sequential_1\"\n",
      "_________________________________________________________________\n",
      "Layer (type)                 Output Shape              Param #   \n",
      "=================================================================\n",
      "vgg19 (Model)                (None, 7, 7, 512)         20024384  \n",
      "_________________________________________________________________\n",
      "flatten_1 (Flatten)          (None, 25088)             0         \n",
      "_________________________________________________________________\n",
      "dropout_1 (Dropout)          (None, 25088)             0         \n",
      "_________________________________________________________________\n",
      "dense_1 (Dense)              (None, 1)                 25089     \n",
      "=================================================================\n",
      "Total params: 20,049,473\n",
      "Trainable params: 7,104,513\n",
      "Non-trainable params: 12,944,960\n",
      "_________________________________________________________________\n",
      "None\n"
     ]
    }
   ],
   "source": [
    "model = build_model()\n",
    "print(model.summary())"
   ]
  },
  {
   "cell_type": "code",
   "execution_count": 14,
   "id": "2c0a475f",
   "metadata": {},
   "outputs": [
    {
     "data": {
      "text/plain": [
       "(1230, 269)"
      ]
     },
     "execution_count": 14,
     "metadata": {},
     "output_type": "execute_result"
    }
   ],
   "source": [
    "# Calculating the steps per epoch parameter\n",
    "\n",
    "BATCH_SIZE = 32\n",
    "train_steps = training_set.n // BATCH_SIZE\n",
    "test_steps = test_set.n // BATCH_SIZE\n",
    "\n",
    "train_steps, test_steps"
   ]
  },
  {
   "cell_type": "code",
   "execution_count": 15,
   "id": "f327cb35",
   "metadata": {},
   "outputs": [],
   "source": [
    "# Using the Callback\n",
    "\n",
    "callback = keras.callbacks.EarlyStopping(\n",
    "    monitor = \"accuracy\",\n",
    "    min_delta = 0,\n",
    "    patience = 3,\n",
    "    verbose = 1,\n",
    "    mode = \"auto\",\n",
    "    baseline = None,\n",
    "    restore_best_weights = False\n",
    ")"
   ]
  },
  {
   "cell_type": "code",
   "execution_count": 16,
   "id": "fed357a1",
   "metadata": {},
   "outputs": [
    {
     "name": "stdout",
     "output_type": "stream",
     "text": [
      "Epoch 1/100\n",
      "1230/1230 [==============================] - 489s 397ms/step - loss: 0.0849 - accuracy: 0.9730\n",
      "Epoch 2/100\n",
      "1230/1230 [==============================] - 460s 374ms/step - loss: 0.0555 - accuracy: 0.9858\n",
      "Epoch 3/100\n",
      "1230/1230 [==============================] - 462s 376ms/step - loss: 0.0572 - accuracy: 0.9866\n",
      "Epoch 4/100\n",
      "1230/1230 [==============================] - 463s 376ms/step - loss: 0.0550 - accuracy: 0.9891\n",
      "Epoch 5/100\n",
      "1230/1230 [==============================] - 464s 377ms/step - loss: 0.0509 - accuracy: 0.9898\n",
      "Epoch 6/100\n",
      "1230/1230 [==============================] - 476s 387ms/step - loss: 0.0571 - accuracy: 0.9900\n",
      "Epoch 7/100\n",
      "1230/1230 [==============================] - 473s 385ms/step - loss: 0.0619 - accuracy: 0.9897\n",
      "Epoch 8/100\n",
      "1230/1230 [==============================] - 482s 392ms/step - loss: 0.0594 - accuracy: 0.9905\n",
      "Epoch 9/100\n",
      "1230/1230 [==============================] - 737s 599ms/step - loss: 0.0586 - accuracy: 0.9908\n",
      "Epoch 10/100\n",
      "1230/1230 [==============================] - 810s 659ms/step - loss: 0.0616 - accuracy: 0.9913\n",
      "Epoch 11/100\n",
      "1230/1230 [==============================] - 478s 389ms/step - loss: 0.0589 - accuracy: 0.9911\n",
      "Epoch 12/100\n",
      "1230/1230 [==============================] - 455s 370ms/step - loss: 0.0775 - accuracy: 0.9911\n",
      "Epoch 13/100\n",
      "1230/1230 [==============================] - 457s 371ms/step - loss: 0.0563 - accuracy: 0.9918\n",
      "Epoch 14/100\n",
      "1230/1230 [==============================] - 454s 369ms/step - loss: 0.0621 - accuracy: 0.9915\n",
      "Epoch 15/100\n",
      "1230/1230 [==============================] - 452s 368ms/step - loss: 0.0659 - accuracy: 0.9913\n",
      "Epoch 16/100\n",
      "1230/1230 [==============================] - 452s 367ms/step - loss: 0.0664 - accuracy: 0.9915\n",
      "Epoch 00016: early stopping\n"
     ]
    }
   ],
   "source": [
    "# Model Training\n",
    "\n",
    "history = model.fit_generator(\n",
    "    training_set,\n",
    "    steps_per_epoch=train_steps, class_weight = class_weights,\n",
    "    epochs=100, callbacks = [callback]\n",
    "    )"
   ]
  },
  {
   "cell_type": "markdown",
   "id": "fd807457",
   "metadata": {},
   "source": [
    "# Testing the model using a sample test data"
   ]
  },
  {
   "cell_type": "code",
   "execution_count": 19,
   "id": "5c287d62",
   "metadata": {},
   "outputs": [
    {
     "name": "stdout",
     "output_type": "stream",
     "text": [
      "No Fire\n"
     ]
    }
   ],
   "source": [
    "# Testing the model with a sample image \n",
    "\n",
    "import numpy as np\n",
    "from keras.preprocessing import image\n",
    "\n",
    "test_image = image.load_img('C:\\\\Users\\\\SRIRAM\\\\Desktop\\\\Test\\\\No_Fire\\\\resized_test_nofire_frame27.jpg', target_size = (224, 224))\n",
    "test_image = image.img_to_array(test_image)\n",
    "test_image = np.expand_dims(test_image, axis = 0)\n",
    "test_image = test_image / 255.0\n",
    "result = model.predict(test_image)\n",
    "training_set.class_indices\n",
    "if result < 0.5:\n",
    "    print('Fire')\n",
    "else:\n",
    "    print('No Fire')"
   ]
  },
  {
   "cell_type": "markdown",
   "id": "909e88a6",
   "metadata": {},
   "source": [
    "# Plotting the model performance "
   ]
  },
  {
   "cell_type": "code",
   "execution_count": 21,
   "id": "f8b84ad4",
   "metadata": {},
   "outputs": [
    {
     "data": {
      "text/plain": [
       "<matplotlib.legend.Legend at 0x233c1594358>"
      ]
     },
     "execution_count": 21,
     "metadata": {},
     "output_type": "execute_result"
    },
    {
     "data": {
      "image/png": "[encoded data removed]",
      "text/plain": [
       "<Figure size 432x288 with 1 Axes>"
      ]
     },
     "metadata": {
      "needs_background": "light"
     },
     "output_type": "display_data"
    }
   ],
   "source": [
    "plt.plot(model.history.history['accuracy'],c='red')\n",
    "plt.plot(model.history.history['loss'],c='green')\n",
    "plt.title('Accuracy')\n",
    "plt.ylabel('Accuracy')\n",
    "plt.xlabel('Epoch')\n",
    "plt.legend(['Train','Validation'],loc='upper left', bbox_to_anchor = (1,1))"
   ]
  },
  {
   "cell_type": "code",
   "execution_count": 22,
   "id": "aaea4769",
   "metadata": {},
   "outputs": [
    {
     "data": {
      "text/plain": [
       "['loss', 'accuracy']"
      ]
     },
     "execution_count": 22,
     "metadata": {},
     "output_type": "execute_result"
    }
   ],
   "source": [
    "# Finding the metrics of the model\n",
    "\n",
    "model.metrics_names"
   ]
  },
  {
   "cell_type": "code",
   "execution_count": 23,
   "id": "8086f4a4",
   "metadata": {},
   "outputs": [],
   "source": [
    "acc = history.history['accuracy']\n",
    "loss = history.history['loss']\n"
   ]
  },
  {
   "cell_type": "code",
   "execution_count": 24,
   "id": "d9270544",
   "metadata": {},
   "outputs": [
    {
     "data": {
      "text/plain": [
       "Text(0.5, 1.0, 'Training and Loss')"
      ]
     },
     "execution_count": 24,
     "metadata": {},
     "output_type": "execute_result"
    },
    {
     "data": {
      "image/png": "[encoded data removed]",
      "text/plain": [
       "<Figure size 576x576 with 1 Axes>"
      ]
     },
     "metadata": {
      "needs_background": "light"
     },
     "output_type": "display_data"
    }
   ],
   "source": [
    "plt.figure(figsize=(8, 8))\n",
    "\n",
    "plt.subplot(2, 1, 1)\n",
    "\n",
    "plt.plot(acc, label='Training Accuracy')\n",
    "\n",
    "plt.plot(loss, label='Loss')\n",
    "\n",
    "plt.legend(loc='lower right')\n",
    "\n",
    "plt.ylabel('Accuracy')\n",
    "\n",
    "plt.ylim([min(plt.ylim()),1])\n",
    "\n",
    "plt.title('Training and Loss')"
   ]
  },
  {
   "cell_type": "code",
   "execution_count": null,
   "id": "0b8972e4",
   "metadata": {},
   "outputs": [],
   "source": []
  }
 ],
 "metadata": {
  "kernelspec": {
   "display_name": "Python 3",
   "language": "python",
   "name": "python3"
  },
  "language_info": {
   "codemirror_mode": {
    "name": "ipython",
    "version": 3
   },
   "file_extension": ".py",
   "mimetype": "text/x-python",
   "name": "python",
   "nbconvert_exporter": "python",
   "pygments_lexer": "ipython3",
   "version": "3.6.13"
  }
 },
 "nbformat": 4,
 "nbformat_minor": 5
}
